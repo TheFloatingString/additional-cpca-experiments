{
 "cells": [
  {
   "cell_type": "code",
   "execution_count": 2,
   "id": "08064ce1-7dfe-4d1e-9f14-f17a341764e9",
   "metadata": {},
   "outputs": [
    {
     "name": "stderr",
     "output_type": "stream",
     "text": [
      "\n",
      "[notice] A new release of pip is available: 23.1.2 -> 24.0\n",
      "[notice] To update, run: python.exe -m pip install --upgrade pip\n"
     ]
    },
    {
     "name": "stdout",
     "output_type": "stream",
     "text": [
      "Collecting contrastive\n",
      "  Using cached contrastive-1.2.0-py3-none-any.whl\n",
      "Requirement already satisfied: numpy in c:\\users\\laure\\appdata\\local\\programs\\python\\python311\\lib\\site-packages (from contrastive) (1.25.2)\n",
      "Requirement already satisfied: scikit-learn in c:\\users\\laure\\appdata\\local\\programs\\python\\python311\\lib\\site-packages (from contrastive) (1.3.0)\n",
      "Requirement already satisfied: matplotlib in c:\\users\\laure\\appdata\\local\\programs\\python\\python311\\lib\\site-packages (from contrastive) (3.7.1)\n",
      "Requirement already satisfied: contourpy>=1.0.1 in c:\\users\\laure\\appdata\\local\\programs\\python\\python311\\lib\\site-packages (from matplotlib->contrastive) (1.1.0)\n",
      "Requirement already satisfied: cycler>=0.10 in c:\\users\\laure\\appdata\\local\\programs\\python\\python311\\lib\\site-packages (from matplotlib->contrastive) (0.11.0)\n",
      "Requirement already satisfied: fonttools>=4.22.0 in c:\\users\\laure\\appdata\\local\\programs\\python\\python311\\lib\\site-packages (from matplotlib->contrastive) (4.40.0)\n",
      "Requirement already satisfied: kiwisolver>=1.0.1 in c:\\users\\laure\\appdata\\local\\programs\\python\\python311\\lib\\site-packages (from matplotlib->contrastive) (1.4.4)\n",
      "Requirement already satisfied: packaging>=20.0 in c:\\users\\laure\\appdata\\local\\programs\\python\\python311\\lib\\site-packages (from matplotlib->contrastive) (23.1)\n",
      "Requirement already satisfied: pillow>=6.2.0 in c:\\users\\laure\\appdata\\local\\programs\\python\\python311\\lib\\site-packages (from matplotlib->contrastive) (9.5.0)\n",
      "Requirement already satisfied: pyparsing>=2.3.1 in c:\\users\\laure\\appdata\\local\\programs\\python\\python311\\lib\\site-packages (from matplotlib->contrastive) (3.0.9)\n",
      "Requirement already satisfied: python-dateutil>=2.7 in c:\\users\\laure\\appdata\\local\\programs\\python\\python311\\lib\\site-packages (from matplotlib->contrastive) (2.8.2)\n",
      "Requirement already satisfied: scipy>=1.5.0 in c:\\users\\laure\\appdata\\local\\programs\\python\\python311\\lib\\site-packages (from scikit-learn->contrastive) (1.10.1)\n",
      "Requirement already satisfied: joblib>=1.1.1 in c:\\users\\laure\\appdata\\local\\programs\\python\\python311\\lib\\site-packages (from scikit-learn->contrastive) (1.3.1)\n",
      "Requirement already satisfied: threadpoolctl>=2.0.0 in c:\\users\\laure\\appdata\\local\\programs\\python\\python311\\lib\\site-packages (from scikit-learn->contrastive) (3.2.0)\n",
      "Requirement already satisfied: six>=1.5 in c:\\users\\laure\\appdata\\local\\programs\\python\\python311\\lib\\site-packages (from python-dateutil>=2.7->matplotlib->contrastive) (1.16.0)\n",
      "Installing collected packages: contrastive\n",
      "Successfully installed contrastive-1.2.0\n"
     ]
    }
   ],
   "source": [
    "!pip install contrastive\n",
    "from contrastive import CPCA"
   ]
  },
  {
   "cell_type": "code",
   "execution_count": 3,
   "id": "5b4b3454-8c8a-4aca-92db-2107f7295af3",
   "metadata": {},
   "outputs": [
    {
     "name": "stdout",
     "output_type": "stream",
     "text": [
      "Collecting ucimlrepo\n",
      "  Downloading ucimlrepo-0.0.3-py3-none-any.whl (7.0 kB)\n",
      "Installing collected packages: ucimlrepo\n",
      "Successfully installed ucimlrepo-0.0.3\n"
     ]
    },
    {
     "name": "stderr",
     "output_type": "stream",
     "text": [
      "\n",
      "[notice] A new release of pip is available: 23.1.2 -> 24.0\n",
      "[notice] To update, run: python.exe -m pip install --upgrade pip\n"
     ]
    }
   ],
   "source": [
    "!pip install ucimlrepo"
   ]
  },
  {
   "cell_type": "code",
   "execution_count": 4,
   "id": "a309f085-9983-42cc-9946-599ced0ca1e1",
   "metadata": {},
   "outputs": [
    {
     "name": "stdout",
     "output_type": "stream",
     "text": [
      "{'uci_id': 602, 'name': 'Dry Bean Dataset', 'repository_url': 'https://archive.ics.uci.edu/dataset/602/dry+bean+dataset', 'data_url': 'https://archive.ics.uci.edu/static/public/602/data.csv', 'abstract': 'Images of 13,611 grains of 7 different registered dry beans were taken with a high-resolution camera. A total of 16 features; 12 dimensions and 4 shape forms, were obtained from the grains.', 'area': 'Biology', 'tasks': ['Classification'], 'characteristics': ['Multivariate'], 'num_instances': 13611, 'num_features': 16, 'feature_types': ['Integer', 'Real'], 'demographics': [], 'target_col': ['Class'], 'index_col': None, 'has_missing_values': 'no', 'missing_values_symbol': None, 'year_of_dataset_creation': 2020, 'last_updated': 'Fri Nov 03 2023', 'dataset_doi': '10.24432/C50S4B', 'creators': [], 'intro_paper': {'title': 'Multiclass classification of dry beans using computer vision and machine learning techniques', 'authors': 'M. Koklu, Ilker Ali Özkan', 'published_in': 'Computers and Electronics in Agriculture', 'year': 2020, 'url': 'https://www.semanticscholar.org/paper/e84c31138f2f261d15517d6b6bb8922c3fe597a1', 'doi': '10.1016/j.compag.2020.105507'}, 'additional_info': {'summary': 'Seven different types of dry beans were used in this research, taking into account the features such as form, shape, type, and structure by the market situation. A computer vision system was developed to distinguish seven different registered varieties of dry beans with similar features in order to obtain uniform seed classification. For the classification model, images of 13,611 grains of 7 different registered dry beans were taken with a high-resolution camera. Bean images obtained by computer vision system were subjected to segmentation and feature extraction stages, and a total of 16 features; 12 dimensions and 4 shape forms, were obtained from the grains.', 'purpose': None, 'funded_by': None, 'instances_represent': None, 'recommended_data_splits': None, 'sensitive_data': None, 'preprocessing_description': None, 'variable_info': '1.) Area (A): The area of a bean zone and the number of pixels within its boundaries.\\r\\n2.) Perimeter (P): Bean circumference is defined as the length of its border.\\r\\n3.) Major axis length (L): The distance between the ends of the longest line that can be drawn from a bean.\\r\\n4.) Minor axis length (l): The longest line that can be drawn from the bean while standing perpendicular to the main axis.\\r\\n5.) Aspect ratio (K): Defines the relationship between L and l.\\r\\n6.) Eccentricity (Ec): Eccentricity of the ellipse having the same moments as the region.\\r\\n7.) Convex area (C): Number of pixels in the smallest convex polygon that can contain the area of a bean seed.\\r\\n8.) Equivalent diameter (Ed): The diameter of a circle having the same area as a bean seed area.\\r\\n9.) Extent (Ex): The ratio of the pixels in the bounding box to the bean area.\\r\\n10.)Solidity (S): Also known as convexity. The ratio of the pixels in the convex shell to those found in beans.\\r\\n11.)Roundness (R): Calculated with the following formula: (4piA)/(P^2)\\r\\n12.)Compactness (CO): Measures the roundness of an object: Ed/L\\r\\n13.)ShapeFactor1 (SF1)\\r\\n14.)ShapeFactor2 (SF2)\\r\\n15.)ShapeFactor3 (SF3)\\r\\n16.)ShapeFactor4 (SF4)\\r\\n17.)Class (Seker, Barbunya, Bombay, Cali, Dermosan, Horoz and Sira)\\r\\n', 'citation': None}}\n",
      "               name     role         type demographic  \\\n",
      "0              Area  Feature      Integer        None   \n",
      "1         Perimeter  Feature   Continuous        None   \n",
      "2   MajorAxisLength  Feature   Continuous        None   \n",
      "3   MinorAxisLength  Feature   Continuous        None   \n",
      "4       AspectRatio  Feature   Continuous        None   \n",
      "5      Eccentricity  Feature   Continuous        None   \n",
      "6        ConvexArea  Feature      Integer        None   \n",
      "7     EquivDiameter  Feature   Continuous        None   \n",
      "8            Extent  Feature   Continuous        None   \n",
      "9          Solidity  Feature   Continuous        None   \n",
      "10        Roundness  Feature   Continuous        None   \n",
      "11      Compactness  Feature   Continuous        None   \n",
      "12     ShapeFactor1  Feature   Continuous        None   \n",
      "13     ShapeFactor2  Feature   Continuous        None   \n",
      "14     ShapeFactor3  Feature   Continuous        None   \n",
      "15     ShapeFactor4  Feature   Continuous        None   \n",
      "16            Class   Target  Categorical        None   \n",
      "\n",
      "                                          description   units missing_values  \n",
      "0   The area of a bean zone and the number of pixe...  pixels             no  \n",
      "1   Bean circumference is defined as the length of...    None             no  \n",
      "2   The distance between the ends of the longest l...    None             no  \n",
      "3   The longest line that can be drawn from the be...    None             no  \n",
      "4   Defines the relationship between MajorAxisLeng...    None             no  \n",
      "5   Eccentricity of the ellipse having the same mo...    None             no  \n",
      "6   Number of pixels in the smallest convex polygo...    None             no  \n",
      "7   Equivalent diameter: The diameter of a circle ...    None             no  \n",
      "8   The ratio of the pixels in the bounding box to...    None             no  \n",
      "9   Also known as convexity. The ratio of the pixe...    None             no  \n",
      "10  Calculated with the following formula: (4piA)/...    None             no  \n",
      "11                Measures the roundness of an object    Ed/L             no  \n",
      "12                                               None    None             no  \n",
      "13                                               None    None             no  \n",
      "14                                               None    None             no  \n",
      "15                                               None    None             no  \n",
      "16  (Seker, Barbunya, Bombay, Cali, Dermosan, Horo...    None             no  \n"
     ]
    }
   ],
   "source": [
    "from ucimlrepo import fetch_ucirepo \n",
    "  \n",
    "# fetch dataset \n",
    "dry_bean_dataset = fetch_ucirepo(id=602) \n",
    "  \n",
    "# data (as pandas dataframes) \n",
    "X = dry_bean_dataset.data.features \n",
    "y = dry_bean_dataset.data.targets \n",
    "  \n",
    "# metadata \n",
    "print(dry_bean_dataset.metadata) \n",
    "  \n",
    "# variable information \n",
    "print(dry_bean_dataset.variables) "
   ]
  },
  {
   "cell_type": "code",
   "execution_count": 21,
   "id": "df0077cb-dba2-4ced-a1cf-b30815fc8d97",
   "metadata": {},
   "outputs": [
    {
     "data": {
      "text/plain": [
       "{'BARBUNYA', 'BOMBAY', 'CALI', 'DERMASON', 'HOROZ', 'SEKER', 'SIRA'}"
      ]
     },
     "execution_count": 21,
     "metadata": {},
     "output_type": "execute_result"
    }
   ],
   "source": [
    "set(df_targets[\"Class\"].values)"
   ]
  },
  {
   "cell_type": "code",
   "execution_count": 77,
   "id": "9bdfc1fb-9f12-4d43-8997-a16f5692c5d2",
   "metadata": {},
   "outputs": [],
   "source": [
    "import numpy as np\n",
    "df_features = dry_bean_dataset.data[\"features\"]\n",
    "df_targets = dry_bean_dataset.data[\"targets\"]\n",
    "seker_features = df_features[df_targets[\"Class\"]==\"SEKER\"]\n",
    "sira_features = df_features[df_targets[\"Class\"]==\"SIRA\"]\n",
    "cali_features = df_features[df_targets[\"Class\"]==\"CALI\"] # add the other classes as background noise\n",
    "X_data = np.concatenate((seker_features.values, sira_features.values), axis=0)\n",
    "X_data_noise = cali_features\n",
    "\n",
    "## TODO\n",
    "# Choose 2 random classes as binary classification\n",
    "# Background: either 1 of 5, (or all 5)\n",
    "# Contrastive background: keep as beans for the moment -> redo this \n",
    "# cPCA: background noise is all the rest: cPCA only for \n",
    "\n",
    "## Another approach\n",
    "# Background could be all 7 classes (noisy), but only a subset of beans are in the target class\n",
    "# Background could also be unlabelled data\n",
    "# Validating different background configurations (i.e. normal noise, related background (+ different indexing configurations))\n",
    "# Implement k-fold validation\n",
    "\n",
    "# PCA applications -> limited, notably to bioinformatics + financial, + visualization\n",
    "# Quantify when it works -> use the backgrounds approach"
   ]
  },
  {
   "cell_type": "code",
   "execution_count": 42,
   "id": "c8c7cafa-a533-46fd-9d5d-2c130fd5ea89",
   "metadata": {},
   "outputs": [
    {
     "data": {
      "text/plain": [
       "(4663, 16)"
      ]
     },
     "execution_count": 42,
     "metadata": {},
     "output_type": "execute_result"
    }
   ],
   "source": [
    "X_data.shape"
   ]
  },
  {
   "cell_type": "code",
   "execution_count": 28,
   "id": "9abe8753-eb0b-41eb-ad02-c85fe696363c",
   "metadata": {},
   "outputs": [
    {
     "data": {
      "text/html": [
       "<div>\n",
       "<style scoped>\n",
       "    .dataframe tbody tr th:only-of-type {\n",
       "        vertical-align: middle;\n",
       "    }\n",
       "\n",
       "    .dataframe tbody tr th {\n",
       "        vertical-align: top;\n",
       "    }\n",
       "\n",
       "    .dataframe thead th {\n",
       "        text-align: right;\n",
       "    }\n",
       "</style>\n",
       "<table border=\"1\" class=\"dataframe\">\n",
       "  <thead>\n",
       "    <tr style=\"text-align: right;\">\n",
       "      <th></th>\n",
       "      <th>Area</th>\n",
       "      <th>Perimeter</th>\n",
       "      <th>MajorAxisLength</th>\n",
       "      <th>MinorAxisLength</th>\n",
       "      <th>AspectRatio</th>\n",
       "      <th>Eccentricity</th>\n",
       "      <th>ConvexArea</th>\n",
       "      <th>EquivDiameter</th>\n",
       "      <th>Extent</th>\n",
       "      <th>Solidity</th>\n",
       "      <th>Roundness</th>\n",
       "      <th>Compactness</th>\n",
       "      <th>ShapeFactor1</th>\n",
       "      <th>ShapeFactor2</th>\n",
       "      <th>ShapeFactor3</th>\n",
       "      <th>ShapeFactor4</th>\n",
       "    </tr>\n",
       "  </thead>\n",
       "  <tbody>\n",
       "    <tr>\n",
       "      <th>0</th>\n",
       "      <td>28395</td>\n",
       "      <td>610.291</td>\n",
       "      <td>208.178117</td>\n",
       "      <td>173.888747</td>\n",
       "      <td>1.197191</td>\n",
       "      <td>0.549812</td>\n",
       "      <td>28715</td>\n",
       "      <td>190.141097</td>\n",
       "      <td>0.763923</td>\n",
       "      <td>0.988856</td>\n",
       "      <td>0.958027</td>\n",
       "      <td>0.913358</td>\n",
       "      <td>0.007332</td>\n",
       "      <td>0.003147</td>\n",
       "      <td>0.834222</td>\n",
       "      <td>0.998724</td>\n",
       "    </tr>\n",
       "    <tr>\n",
       "      <th>1</th>\n",
       "      <td>28734</td>\n",
       "      <td>638.018</td>\n",
       "      <td>200.524796</td>\n",
       "      <td>182.734419</td>\n",
       "      <td>1.097356</td>\n",
       "      <td>0.411785</td>\n",
       "      <td>29172</td>\n",
       "      <td>191.272751</td>\n",
       "      <td>0.783968</td>\n",
       "      <td>0.984986</td>\n",
       "      <td>0.887034</td>\n",
       "      <td>0.953861</td>\n",
       "      <td>0.006979</td>\n",
       "      <td>0.003564</td>\n",
       "      <td>0.909851</td>\n",
       "      <td>0.998430</td>\n",
       "    </tr>\n",
       "    <tr>\n",
       "      <th>2</th>\n",
       "      <td>29380</td>\n",
       "      <td>624.110</td>\n",
       "      <td>212.826130</td>\n",
       "      <td>175.931143</td>\n",
       "      <td>1.209713</td>\n",
       "      <td>0.562727</td>\n",
       "      <td>29690</td>\n",
       "      <td>193.410904</td>\n",
       "      <td>0.778113</td>\n",
       "      <td>0.989559</td>\n",
       "      <td>0.947849</td>\n",
       "      <td>0.908774</td>\n",
       "      <td>0.007244</td>\n",
       "      <td>0.003048</td>\n",
       "      <td>0.825871</td>\n",
       "      <td>0.999066</td>\n",
       "    </tr>\n",
       "    <tr>\n",
       "      <th>3</th>\n",
       "      <td>30008</td>\n",
       "      <td>645.884</td>\n",
       "      <td>210.557999</td>\n",
       "      <td>182.516516</td>\n",
       "      <td>1.153638</td>\n",
       "      <td>0.498616</td>\n",
       "      <td>30724</td>\n",
       "      <td>195.467062</td>\n",
       "      <td>0.782681</td>\n",
       "      <td>0.976696</td>\n",
       "      <td>0.903936</td>\n",
       "      <td>0.928329</td>\n",
       "      <td>0.007017</td>\n",
       "      <td>0.003215</td>\n",
       "      <td>0.861794</td>\n",
       "      <td>0.994199</td>\n",
       "    </tr>\n",
       "    <tr>\n",
       "      <th>4</th>\n",
       "      <td>30140</td>\n",
       "      <td>620.134</td>\n",
       "      <td>201.847882</td>\n",
       "      <td>190.279279</td>\n",
       "      <td>1.060798</td>\n",
       "      <td>0.333680</td>\n",
       "      <td>30417</td>\n",
       "      <td>195.896503</td>\n",
       "      <td>0.773098</td>\n",
       "      <td>0.990893</td>\n",
       "      <td>0.984877</td>\n",
       "      <td>0.970516</td>\n",
       "      <td>0.006697</td>\n",
       "      <td>0.003665</td>\n",
       "      <td>0.941900</td>\n",
       "      <td>0.999166</td>\n",
       "    </tr>\n",
       "  </tbody>\n",
       "</table>\n",
       "</div>"
      ],
      "text/plain": [
       "    Area  Perimeter  MajorAxisLength  MinorAxisLength  AspectRatio  \\\n",
       "0  28395    610.291       208.178117       173.888747     1.197191   \n",
       "1  28734    638.018       200.524796       182.734419     1.097356   \n",
       "2  29380    624.110       212.826130       175.931143     1.209713   \n",
       "3  30008    645.884       210.557999       182.516516     1.153638   \n",
       "4  30140    620.134       201.847882       190.279279     1.060798   \n",
       "\n",
       "   Eccentricity  ConvexArea  EquivDiameter    Extent  Solidity  Roundness  \\\n",
       "0      0.549812       28715     190.141097  0.763923  0.988856   0.958027   \n",
       "1      0.411785       29172     191.272751  0.783968  0.984986   0.887034   \n",
       "2      0.562727       29690     193.410904  0.778113  0.989559   0.947849   \n",
       "3      0.498616       30724     195.467062  0.782681  0.976696   0.903936   \n",
       "4      0.333680       30417     195.896503  0.773098  0.990893   0.984877   \n",
       "\n",
       "   Compactness  ShapeFactor1  ShapeFactor2  ShapeFactor3  ShapeFactor4  \n",
       "0     0.913358      0.007332      0.003147      0.834222      0.998724  \n",
       "1     0.953861      0.006979      0.003564      0.909851      0.998430  \n",
       "2     0.908774      0.007244      0.003048      0.825871      0.999066  \n",
       "3     0.928329      0.007017      0.003215      0.861794      0.994199  \n",
       "4     0.970516      0.006697      0.003665      0.941900      0.999166  "
      ]
     },
     "execution_count": 28,
     "metadata": {},
     "output_type": "execute_result"
    }
   ],
   "source": [
    "seker_features.head()"
   ]
  },
  {
   "cell_type": "code",
   "execution_count": 33,
   "id": "0c279794-7dfc-46e8-9a6a-3bdd873e03eb",
   "metadata": {},
   "outputs": [
    {
     "data": {
      "text/html": [
       "<div>\n",
       "<style scoped>\n",
       "    .dataframe tbody tr th:only-of-type {\n",
       "        vertical-align: middle;\n",
       "    }\n",
       "\n",
       "    .dataframe tbody tr th {\n",
       "        vertical-align: top;\n",
       "    }\n",
       "\n",
       "    .dataframe thead th {\n",
       "        text-align: right;\n",
       "    }\n",
       "</style>\n",
       "<table border=\"1\" class=\"dataframe\">\n",
       "  <thead>\n",
       "    <tr style=\"text-align: right;\">\n",
       "      <th></th>\n",
       "      <th>Area</th>\n",
       "      <th>Perimeter</th>\n",
       "      <th>MajorAxisLength</th>\n",
       "      <th>MinorAxisLength</th>\n",
       "      <th>AspectRatio</th>\n",
       "      <th>Eccentricity</th>\n",
       "      <th>ConvexArea</th>\n",
       "      <th>EquivDiameter</th>\n",
       "      <th>Extent</th>\n",
       "      <th>Solidity</th>\n",
       "      <th>Roundness</th>\n",
       "      <th>Compactness</th>\n",
       "      <th>ShapeFactor1</th>\n",
       "      <th>ShapeFactor2</th>\n",
       "      <th>ShapeFactor3</th>\n",
       "      <th>ShapeFactor4</th>\n",
       "    </tr>\n",
       "  </thead>\n",
       "  <tbody>\n",
       "    <tr>\n",
       "      <th>7429</th>\n",
       "      <td>31519</td>\n",
       "      <td>676.641</td>\n",
       "      <td>255.073562</td>\n",
       "      <td>157.802740</td>\n",
       "      <td>1.616408</td>\n",
       "      <td>0.785662</td>\n",
       "      <td>32065</td>\n",
       "      <td>200.327824</td>\n",
       "      <td>0.758033</td>\n",
       "      <td>0.982972</td>\n",
       "      <td>0.865099</td>\n",
       "      <td>0.785373</td>\n",
       "      <td>0.008093</td>\n",
       "      <td>0.001899</td>\n",
       "      <td>0.616810</td>\n",
       "      <td>0.997017</td>\n",
       "    </tr>\n",
       "    <tr>\n",
       "      <th>7430</th>\n",
       "      <td>31751</td>\n",
       "      <td>671.914</td>\n",
       "      <td>244.102719</td>\n",
       "      <td>168.522491</td>\n",
       "      <td>1.448487</td>\n",
       "      <td>0.723451</td>\n",
       "      <td>32462</td>\n",
       "      <td>201.063743</td>\n",
       "      <td>0.694284</td>\n",
       "      <td>0.978097</td>\n",
       "      <td>0.883771</td>\n",
       "      <td>0.823685</td>\n",
       "      <td>0.007688</td>\n",
       "      <td>0.002183</td>\n",
       "      <td>0.678457</td>\n",
       "      <td>0.982736</td>\n",
       "    </tr>\n",
       "    <tr>\n",
       "      <th>7431</th>\n",
       "      <td>32857</td>\n",
       "      <td>668.106</td>\n",
       "      <td>233.804968</td>\n",
       "      <td>179.500919</td>\n",
       "      <td>1.302528</td>\n",
       "      <td>0.640764</td>\n",
       "      <td>33185</td>\n",
       "      <td>204.535649</td>\n",
       "      <td>0.775569</td>\n",
       "      <td>0.990116</td>\n",
       "      <td>0.925011</td>\n",
       "      <td>0.874813</td>\n",
       "      <td>0.007116</td>\n",
       "      <td>0.002571</td>\n",
       "      <td>0.765298</td>\n",
       "      <td>0.996822</td>\n",
       "    </tr>\n",
       "    <tr>\n",
       "      <th>7432</th>\n",
       "      <td>33180</td>\n",
       "      <td>670.488</td>\n",
       "      <td>240.969501</td>\n",
       "      <td>175.645040</td>\n",
       "      <td>1.371912</td>\n",
       "      <td>0.684610</td>\n",
       "      <td>33564</td>\n",
       "      <td>205.538532</td>\n",
       "      <td>0.774835</td>\n",
       "      <td>0.988559</td>\n",
       "      <td>0.927479</td>\n",
       "      <td>0.852965</td>\n",
       "      <td>0.007262</td>\n",
       "      <td>0.002371</td>\n",
       "      <td>0.727549</td>\n",
       "      <td>0.998133</td>\n",
       "    </tr>\n",
       "    <tr>\n",
       "      <th>7433</th>\n",
       "      <td>33206</td>\n",
       "      <td>680.423</td>\n",
       "      <td>260.089827</td>\n",
       "      <td>163.102720</td>\n",
       "      <td>1.594638</td>\n",
       "      <td>0.778938</td>\n",
       "      <td>33583</td>\n",
       "      <td>205.619047</td>\n",
       "      <td>0.752663</td>\n",
       "      <td>0.988774</td>\n",
       "      <td>0.901298</td>\n",
       "      <td>0.790569</td>\n",
       "      <td>0.007833</td>\n",
       "      <td>0.001887</td>\n",
       "      <td>0.625000</td>\n",
       "      <td>0.996649</td>\n",
       "    </tr>\n",
       "  </tbody>\n",
       "</table>\n",
       "</div>"
      ],
      "text/plain": [
       "       Area  Perimeter  MajorAxisLength  MinorAxisLength  AspectRatio  \\\n",
       "7429  31519    676.641       255.073562       157.802740     1.616408   \n",
       "7430  31751    671.914       244.102719       168.522491     1.448487   \n",
       "7431  32857    668.106       233.804968       179.500919     1.302528   \n",
       "7432  33180    670.488       240.969501       175.645040     1.371912   \n",
       "7433  33206    680.423       260.089827       163.102720     1.594638   \n",
       "\n",
       "      Eccentricity  ConvexArea  EquivDiameter    Extent  Solidity  Roundness  \\\n",
       "7429      0.785662       32065     200.327824  0.758033  0.982972   0.865099   \n",
       "7430      0.723451       32462     201.063743  0.694284  0.978097   0.883771   \n",
       "7431      0.640764       33185     204.535649  0.775569  0.990116   0.925011   \n",
       "7432      0.684610       33564     205.538532  0.774835  0.988559   0.927479   \n",
       "7433      0.778938       33583     205.619047  0.752663  0.988774   0.901298   \n",
       "\n",
       "      Compactness  ShapeFactor1  ShapeFactor2  ShapeFactor3  ShapeFactor4  \n",
       "7429     0.785373      0.008093      0.001899      0.616810      0.997017  \n",
       "7430     0.823685      0.007688      0.002183      0.678457      0.982736  \n",
       "7431     0.874813      0.007116      0.002571      0.765298      0.996822  \n",
       "7432     0.852965      0.007262      0.002371      0.727549      0.998133  \n",
       "7433     0.790569      0.007833      0.001887      0.625000      0.996649  "
      ]
     },
     "execution_count": 33,
     "metadata": {},
     "output_type": "execute_result"
    }
   ],
   "source": [
    "sira_features.head()"
   ]
  },
  {
   "cell_type": "code",
   "execution_count": 34,
   "id": "a7703cb2-3cb2-4809-80f5-9d86a0b0dd24",
   "metadata": {},
   "outputs": [
    {
     "data": {
      "text/html": [
       "<div>\n",
       "<style scoped>\n",
       "    .dataframe tbody tr th:only-of-type {\n",
       "        vertical-align: middle;\n",
       "    }\n",
       "\n",
       "    .dataframe tbody tr th {\n",
       "        vertical-align: top;\n",
       "    }\n",
       "\n",
       "    .dataframe thead th {\n",
       "        text-align: right;\n",
       "    }\n",
       "</style>\n",
       "<table border=\"1\" class=\"dataframe\">\n",
       "  <thead>\n",
       "    <tr style=\"text-align: right;\">\n",
       "      <th></th>\n",
       "      <th>Area</th>\n",
       "      <th>Perimeter</th>\n",
       "      <th>MajorAxisLength</th>\n",
       "      <th>MinorAxisLength</th>\n",
       "      <th>AspectRatio</th>\n",
       "      <th>Eccentricity</th>\n",
       "      <th>ConvexArea</th>\n",
       "      <th>EquivDiameter</th>\n",
       "      <th>Extent</th>\n",
       "      <th>Solidity</th>\n",
       "      <th>Roundness</th>\n",
       "      <th>Compactness</th>\n",
       "      <th>ShapeFactor1</th>\n",
       "      <th>ShapeFactor2</th>\n",
       "      <th>ShapeFactor3</th>\n",
       "      <th>ShapeFactor4</th>\n",
       "    </tr>\n",
       "  </thead>\n",
       "  <tbody>\n",
       "    <tr>\n",
       "      <th>3871</th>\n",
       "      <td>45504</td>\n",
       "      <td>793.417</td>\n",
       "      <td>295.469831</td>\n",
       "      <td>196.311823</td>\n",
       "      <td>1.505105</td>\n",
       "      <td>0.747372</td>\n",
       "      <td>45972</td>\n",
       "      <td>240.702082</td>\n",
       "      <td>0.737779</td>\n",
       "      <td>0.989820</td>\n",
       "      <td>0.908357</td>\n",
       "      <td>0.814642</td>\n",
       "      <td>0.006493</td>\n",
       "      <td>0.001764</td>\n",
       "      <td>0.663641</td>\n",
       "      <td>0.998850</td>\n",
       "    </tr>\n",
       "    <tr>\n",
       "      <th>3872</th>\n",
       "      <td>45666</td>\n",
       "      <td>789.770</td>\n",
       "      <td>274.863357</td>\n",
       "      <td>211.885139</td>\n",
       "      <td>1.297228</td>\n",
       "      <td>0.636987</td>\n",
       "      <td>46074</td>\n",
       "      <td>241.130166</td>\n",
       "      <td>0.748378</td>\n",
       "      <td>0.991145</td>\n",
       "      <td>0.920029</td>\n",
       "      <td>0.877273</td>\n",
       "      <td>0.006019</td>\n",
       "      <td>0.002199</td>\n",
       "      <td>0.769608</td>\n",
       "      <td>0.998357</td>\n",
       "    </tr>\n",
       "    <tr>\n",
       "      <th>3873</th>\n",
       "      <td>48373</td>\n",
       "      <td>825.148</td>\n",
       "      <td>313.570417</td>\n",
       "      <td>197.898700</td>\n",
       "      <td>1.584500</td>\n",
       "      <td>0.775690</td>\n",
       "      <td>49026</td>\n",
       "      <td>248.174166</td>\n",
       "      <td>0.806539</td>\n",
       "      <td>0.986681</td>\n",
       "      <td>0.892790</td>\n",
       "      <td>0.791446</td>\n",
       "      <td>0.006482</td>\n",
       "      <td>0.001569</td>\n",
       "      <td>0.626387</td>\n",
       "      <td>0.992511</td>\n",
       "    </tr>\n",
       "    <tr>\n",
       "      <th>3874</th>\n",
       "      <td>49245</td>\n",
       "      <td>822.642</td>\n",
       "      <td>301.392791</td>\n",
       "      <td>208.346444</td>\n",
       "      <td>1.446594</td>\n",
       "      <td>0.722588</td>\n",
       "      <td>49720</td>\n",
       "      <td>250.401041</td>\n",
       "      <td>0.777225</td>\n",
       "      <td>0.990447</td>\n",
       "      <td>0.914430</td>\n",
       "      <td>0.830813</td>\n",
       "      <td>0.006120</td>\n",
       "      <td>0.001799</td>\n",
       "      <td>0.690250</td>\n",
       "      <td>0.998512</td>\n",
       "    </tr>\n",
       "    <tr>\n",
       "      <th>3875</th>\n",
       "      <td>49882</td>\n",
       "      <td>891.505</td>\n",
       "      <td>357.189004</td>\n",
       "      <td>179.834691</td>\n",
       "      <td>1.986207</td>\n",
       "      <td>0.864011</td>\n",
       "      <td>51042</td>\n",
       "      <td>252.015347</td>\n",
       "      <td>0.726021</td>\n",
       "      <td>0.977274</td>\n",
       "      <td>0.788690</td>\n",
       "      <td>0.705552</td>\n",
       "      <td>0.007161</td>\n",
       "      <td>0.001095</td>\n",
       "      <td>0.497803</td>\n",
       "      <td>0.988741</td>\n",
       "    </tr>\n",
       "  </tbody>\n",
       "</table>\n",
       "</div>"
      ],
      "text/plain": [
       "       Area  Perimeter  MajorAxisLength  MinorAxisLength  AspectRatio  \\\n",
       "3871  45504    793.417       295.469831       196.311823     1.505105   \n",
       "3872  45666    789.770       274.863357       211.885139     1.297228   \n",
       "3873  48373    825.148       313.570417       197.898700     1.584500   \n",
       "3874  49245    822.642       301.392791       208.346444     1.446594   \n",
       "3875  49882    891.505       357.189004       179.834691     1.986207   \n",
       "\n",
       "      Eccentricity  ConvexArea  EquivDiameter    Extent  Solidity  Roundness  \\\n",
       "3871      0.747372       45972     240.702082  0.737779  0.989820   0.908357   \n",
       "3872      0.636987       46074     241.130166  0.748378  0.991145   0.920029   \n",
       "3873      0.775690       49026     248.174166  0.806539  0.986681   0.892790   \n",
       "3874      0.722588       49720     250.401041  0.777225  0.990447   0.914430   \n",
       "3875      0.864011       51042     252.015347  0.726021  0.977274   0.788690   \n",
       "\n",
       "      Compactness  ShapeFactor1  ShapeFactor2  ShapeFactor3  ShapeFactor4  \n",
       "3871     0.814642      0.006493      0.001764      0.663641      0.998850  \n",
       "3872     0.877273      0.006019      0.002199      0.769608      0.998357  \n",
       "3873     0.791446      0.006482      0.001569      0.626387      0.992511  \n",
       "3874     0.830813      0.006120      0.001799      0.690250      0.998512  \n",
       "3875     0.705552      0.007161      0.001095      0.497803      0.988741  "
      ]
     },
     "execution_count": 34,
     "metadata": {},
     "output_type": "execute_result"
    }
   ],
   "source": [
    "cali_features.head()"
   ]
  },
  {
   "cell_type": "code",
   "execution_count": 57,
   "id": "f5617b1a-ed36-4507-b50a-8801c897f971",
   "metadata": {},
   "outputs": [],
   "source": [
    "import numpy as np\n",
    "y_data = np.zeros(len(seker_features)+len(sira_features))"
   ]
  },
  {
   "cell_type": "code",
   "execution_count": 58,
   "id": "cfb7a3c6-3b47-469a-b7a0-a399740d32be",
   "metadata": {},
   "outputs": [],
   "source": [
    "for i in range(len(seker_features)):\n",
    "    y_data[i]=1.0"
   ]
  },
  {
   "cell_type": "code",
   "execution_count": 60,
   "id": "3bdd5c62-7fa9-400f-bd85-74f994b3dc6b",
   "metadata": {},
   "outputs": [
    {
     "data": {
      "text/plain": [
       "1.0"
      ]
     },
     "execution_count": 60,
     "metadata": {},
     "output_type": "execute_result"
    }
   ],
   "source": [
    "y_data[0]"
   ]
  },
  {
   "cell_type": "code",
   "execution_count": 61,
   "id": "f798ce74-25c0-490c-8f6b-1f98f5ce525d",
   "metadata": {},
   "outputs": [
    {
     "name": "stdout",
     "output_type": "stream",
     "text": [
      "(4, 4663, 2)\n"
     ]
    }
   ],
   "source": [
    "cpca_model = CPCA(n_components=2)\n",
    "transformed_data = cpca_model.fit_transform(X_data, X_data_noise)\n",
    "transformed_data = np.asarray(transformed_data)\n",
    "print(transformed_data.shape)"
   ]
  },
  {
   "cell_type": "code",
   "execution_count": 62,
   "id": "1c0796db-7fb3-457d-935c-3b1c6eb691e4",
   "metadata": {},
   "outputs": [],
   "source": [
    "from sklearn.decomposition import PCA\n",
    "\n",
    "pca_model = PCA(n_components=2)\n",
    "X_data_original_compress = pca_model.fit_transform(X_data)"
   ]
  },
  {
   "cell_type": "code",
   "execution_count": 65,
   "id": "bd8d4f4a-fefe-47ca-890e-9121bf25788f",
   "metadata": {},
   "outputs": [
    {
     "name": "stdout",
     "output_type": "stream",
     "text": [
      "0.79108 +/- 0.0088\n"
     ]
    }
   ],
   "source": [
    "from sklearn.neighbors import KNeighborsClassifier\n",
    "from sklearn.model_selection import train_test_split\n",
    "\n",
    "mean_acc = []\n",
    "for i in range(10):\n",
    "    X_train, X_test, y_train, y_test = train_test_split(X_data_original_compress, y_data, shuffle=True)\n",
    "    knn_clf = KNeighborsClassifier(n_neighbors=5)\n",
    "    knn_clf.fit(X_train, y_train)\n",
    "    mean_acc.append(knn_clf.score(X_test, y_test))\n",
    "print(f\"{round(np.mean(mean_acc),5)} +/- {round(np.std(mean_acc),5)}\")"
   ]
  },
  {
   "cell_type": "code",
   "execution_count": 66,
   "id": "6dbda449-8d67-4fe1-ba5f-0b8a336a0e1e",
   "metadata": {},
   "outputs": [
    {
     "name": "stdout",
     "output_type": "stream",
     "text": [
      "0.96407 +/- 0.00401\n",
      "0.96732 +/- 0.00331\n",
      "0.96732 +/- 0.00424\n",
      "0.96835 +/- 0.00401\n"
     ]
    }
   ],
   "source": [
    "from sklearn.neighbors import KNeighborsClassifier\n",
    "from sklearn.model_selection import train_test_split\n",
    "\n",
    "for i in range(len(transformed_data)):\n",
    "    mean_acc = []\n",
    "    for j in range(10):\n",
    "        X_train, X_test, y_train, y_test = train_test_split(transformed_data[i], y_data, shuffle=True)\n",
    "        knn_clf = KNeighborsClassifier(n_neighbors=5)\n",
    "        knn_clf.fit(X_train, y_train)\n",
    "        mean_acc.append(knn_clf.score(X_test, y_test))\n",
    "    print(f\"{round(np.mean(mean_acc),5)} +/- {round(np.std(mean_acc),5)}\")"
   ]
  },
  {
   "cell_type": "code",
   "execution_count": 67,
   "id": "2681230c-c26b-484d-bc6f-0c1097f764d4",
   "metadata": {},
   "outputs": [
    {
     "name": "stdout",
     "output_type": "stream",
     "text": [
      "0.83508 +/- 0.00891\n"
     ]
    }
   ],
   "source": [
    "from sklearn.neighbors import KNeighborsClassifier\n",
    "from sklearn.model_selection import train_test_split\n",
    "\n",
    "mean_acc = []\n",
    "for i in range(10):\n",
    "    X_train, X_test, y_train, y_test = train_test_split(X_data, y_data, shuffle=True)\n",
    "    knn_clf = KNeighborsClassifier(n_neighbors=5)\n",
    "    knn_clf.fit(X_train, y_train)\n",
    "    mean_acc.append(knn_clf.score(X_test, y_test))\n",
    "print(f\"{round(np.mean(mean_acc),5)} +/- {round(np.std(mean_acc),5)}\")"
   ]
  },
  {
   "cell_type": "code",
   "execution_count": 72,
   "id": "04b3433f-110a-4637-a8e7-de5e1ec8bd37",
   "metadata": {},
   "outputs": [
    {
     "data": {
      "image/png": "[encoded data removed]",
      "text/plain": [
       "<Figure size 640x480 with 1 Axes>"
      ]
     },
     "metadata": {},
     "output_type": "display_data"
    }
   ],
   "source": [
    "# !pip install matplotlib\n",
    "import matplotlib.pyplot as plt\n",
    "\n",
    "plt.scatter(X_data_original_compress[:,0], X_data_original_compress[:,1], c=y_data)\n",
    "plt.title(\"PCA Results\")\n",
    "plt.show()"
   ]
  },
  {
   "cell_type": "code",
   "execution_count": 75,
   "id": "d2dac902-d662-41c2-9f6d-fdb133e6ad06",
   "metadata": {},
   "outputs": [
    {
     "name": "stdout",
     "output_type": "stream",
     "text": [
      "(4, 4663, 2)\n",
      "(4663,)\n"
     ]
    }
   ],
   "source": [
    "print(transformed_data.shape)\n",
    "print(y_data.shape)"
   ]
  },
  {
   "cell_type": "code",
   "execution_count": 76,
   "id": "d9e0c68c-9277-4dcb-8672-dcd58b38187b",
   "metadata": {},
   "outputs": [
    {
     "data": {
      "image/png": "[encoded data removed]",
      "text/plain": [
       "<Figure size 640x480 with 1 Axes>"
      ]
     },
     "metadata": {},
     "output_type": "display_data"
    }
   ],
   "source": [
    "# !pip install matplotlib\n",
    "import matplotlib.pyplot as plt\n",
    "\n",
    "plt.scatter(transformed_data[0][:,0], transformed_data[0][:,1], c=y_data)\n",
    "plt.title(\"cPCA Results\")\n",
    "plt.show()"
   ]
  }
 ],
 "metadata": {
  "kernelspec": {
   "display_name": "Python 3 (ipykernel)",
   "language": "python",
   "name": "python3"
  },
  "language_info": {
   "codemirror_mode": {
    "name": "ipython",
    "version": 3
   },
   "file_extension": ".py",
   "mimetype": "text/x-python",
   "name": "python",
   "nbconvert_exporter": "python",
   "pygments_lexer": "ipython3",
   "version": "3.11.4"
  }
 },
 "nbformat": 4,
 "nbformat_minor": 5
}
