{
 "cells": [
  {
   "cell_type": "markdown",
   "id": "522d7419-115e-4485-b2a3-ac951b6da9a4",
   "metadata": {},
   "source": [
    "# Using cPCA for Tabular In-Context Learning\n",
    "\n",
    "Following the release of [TabPFN](https://arxiv.org/abs/2207.01848) as a transformer model capable of strong in-context learning (ICL) on tabular data, this project aims to evaluate using contrastive PCA (cPCA) as an additional method to further increase TabPFN learning on tabular data. \n",
    "\n",
    "Benefits of adding cPCA as a preprocessing step before TabPFN include:\n",
    "\n",
    "- an improvement in classification accuracy\n",
    "- a reduction in the number of features, thus decreasing dataset size and improving TabPFN inference time\n",
    "\n",
    "### Summary of results:\n",
    "\n",
    "These results were run on the [balance-scale (UCI)](https://www.openml.org/search?type=data&id=11) dataset from OpenML. \n",
    "\n",
    "| Preprocessing | Accuracy |\n",
    "| --- | --- |\n",
    "| None | 0.941 |\n",
    "| PCA (2-dimensions) | 0.853 | \n",
    "| cPCA (2-dimensions) (best score) | **0.956** | "
   ]
  },
  {
   "cell_type": "markdown",
   "id": "b5cb90ce-906a-4ea7-9410-2da8ebc92fdd",
   "metadata": {},
   "source": [
    "### Install Packages"
   ]
  },
  {
   "cell_type": "code",
   "execution_count": 74,
   "id": "3863934c-de8a-4d70-b6c6-af0e3d72c153",
   "metadata": {
    "scrolled": true
   },
   "outputs": [
    {
     "name": "stdout",
     "output_type": "stream",
     "text": [
      "Requirement already satisfied: tabpfn in /usr/local/lib/python3.10/dist-packages (2.0.9)\n",
      "Requirement already satisfied: openml in /usr/local/lib/python3.10/dist-packages (0.15.1)\n",
      "Requirement already satisfied: contrastive in /usr/local/lib/python3.10/dist-packages (1.2.0)\n",
      "Requirement already satisfied: tqdm in /usr/local/lib/python3.10/dist-packages (4.67.1)\n",
      "Requirement already satisfied: torch<3,>=2.1 in /usr/local/lib/python3.10/dist-packages (from tabpfn) (2.1.0+cu118)\n",
      "Requirement already satisfied: scikit-learn<1.7,>=1.2.0 in /usr/local/lib/python3.10/dist-packages (from tabpfn) (1.6.1)\n",
      "Requirement already satisfied: typing_extensions>=4.4.0 in /usr/local/lib/python3.10/dist-packages (from tabpfn) (4.4.0)\n",
      "Requirement already satisfied: scipy<2,>=1.11.1 in /usr/local/lib/python3.10/dist-packages (from tabpfn) (1.15.3)\n",
      "Requirement already satisfied: pandas<3,>=1.4.0 in /usr/local/lib/python3.10/dist-packages (from tabpfn) (2.2.3)\n",
      "Requirement already satisfied: einops<0.9,>=0.2.0 in /usr/local/lib/python3.10/dist-packages (from tabpfn) (0.8.1)\n",
      "Requirement already satisfied: huggingface-hub<1,>=0.0.1 in /usr/local/lib/python3.10/dist-packages (from tabpfn) (0.31.2)\n",
      "Requirement already satisfied: liac-arff>=2.4.0 in /usr/local/lib/python3.10/dist-packages (from openml) (2.5.0)\n",
      "Requirement already satisfied: xmltodict in /usr/local/lib/python3.10/dist-packages (from openml) (0.14.2)\n",
      "Requirement already satisfied: requests in /usr/local/lib/python3.10/dist-packages (from openml) (2.31.0)\n",
      "Requirement already satisfied: python-dateutil in /usr/local/lib/python3.10/dist-packages (from openml) (2.8.2)\n",
      "Requirement already satisfied: numpy>=1.6.2 in /usr/local/lib/python3.10/dist-packages (from openml) (1.24.1)\n",
      "Requirement already satisfied: minio in /usr/local/lib/python3.10/dist-packages (from openml) (7.2.15)\n",
      "Requirement already satisfied: pyarrow in /usr/local/lib/python3.10/dist-packages (from openml) (20.0.0)\n",
      "Requirement already satisfied: packaging in /usr/local/lib/python3.10/dist-packages (from openml) (23.2)\n",
      "Requirement already satisfied: matplotlib in /usr/local/lib/python3.10/dist-packages (from contrastive) (3.10.3)\n",
      "Requirement already satisfied: filelock in /usr/local/lib/python3.10/dist-packages (from huggingface-hub<1,>=0.0.1->tabpfn) (3.9.0)\n",
      "Requirement already satisfied: fsspec>=2023.5.0 in /usr/local/lib/python3.10/dist-packages (from huggingface-hub<1,>=0.0.1->tabpfn) (2025.3.2)\n",
      "Requirement already satisfied: pyyaml>=5.1 in /usr/local/lib/python3.10/dist-packages (from huggingface-hub<1,>=0.0.1->tabpfn) (6.0.1)\n",
      "Requirement already satisfied: pytz>=2020.1 in /usr/local/lib/python3.10/dist-packages (from pandas<3,>=1.4.0->tabpfn) (2025.2)\n",
      "Requirement already satisfied: tzdata>=2022.7 in /usr/local/lib/python3.10/dist-packages (from pandas<3,>=1.4.0->tabpfn) (2025.2)\n",
      "Requirement already satisfied: six>=1.5 in /usr/lib/python3/dist-packages (from python-dateutil->openml) (1.16.0)\n",
      "Requirement already satisfied: joblib>=1.2.0 in /usr/local/lib/python3.10/dist-packages (from scikit-learn<1.7,>=1.2.0->tabpfn) (1.5.0)\n",
      "Requirement already satisfied: threadpoolctl>=3.1.0 in /usr/local/lib/python3.10/dist-packages (from scikit-learn<1.7,>=1.2.0->tabpfn) (3.6.0)\n",
      "Requirement already satisfied: sympy in /usr/local/lib/python3.10/dist-packages (from torch<3,>=2.1->tabpfn) (1.12)\n",
      "Requirement already satisfied: networkx in /usr/local/lib/python3.10/dist-packages (from torch<3,>=2.1->tabpfn) (3.0)\n",
      "Requirement already satisfied: jinja2 in /usr/local/lib/python3.10/dist-packages (from torch<3,>=2.1->tabpfn) (3.1.2)\n",
      "Requirement already satisfied: triton==2.1.0 in /usr/local/lib/python3.10/dist-packages (from torch<3,>=2.1->tabpfn) (2.1.0)\n",
      "Requirement already satisfied: contourpy>=1.0.1 in /usr/local/lib/python3.10/dist-packages (from matplotlib->contrastive) (1.3.2)\n",
      "Requirement already satisfied: cycler>=0.10 in /usr/local/lib/python3.10/dist-packages (from matplotlib->contrastive) (0.12.1)\n",
      "Requirement already satisfied: fonttools>=4.22.0 in /usr/local/lib/python3.10/dist-packages (from matplotlib->contrastive) (4.58.0)\n",
      "Requirement already satisfied: kiwisolver>=1.3.1 in /usr/local/lib/python3.10/dist-packages (from matplotlib->contrastive) (1.4.8)\n",
      "Requirement already satisfied: pillow>=8 in /usr/local/lib/python3.10/dist-packages (from matplotlib->contrastive) (9.3.0)\n",
      "Requirement already satisfied: pyparsing>=2.3.1 in /usr/lib/python3/dist-packages (from matplotlib->contrastive) (2.4.7)\n",
      "Requirement already satisfied: certifi in /usr/local/lib/python3.10/dist-packages (from minio->openml) (2022.12.7)\n",
      "Requirement already satisfied: urllib3 in /usr/local/lib/python3.10/dist-packages (from minio->openml) (1.26.13)\n",
      "Requirement already satisfied: argon2-cffi in /usr/local/lib/python3.10/dist-packages (from minio->openml) (23.1.0)\n",
      "Requirement already satisfied: pycryptodome in /usr/local/lib/python3.10/dist-packages (from minio->openml) (3.22.0)\n",
      "Requirement already satisfied: charset-normalizer<4,>=2 in /usr/local/lib/python3.10/dist-packages (from requests->openml) (2.1.1)\n",
      "Requirement already satisfied: idna<4,>=2.5 in /usr/local/lib/python3.10/dist-packages (from requests->openml) (3.4)\n",
      "Requirement already satisfied: argon2-cffi-bindings in /usr/local/lib/python3.10/dist-packages (from argon2-cffi->minio->openml) (21.2.0)\n",
      "Requirement already satisfied: MarkupSafe>=2.0 in /usr/local/lib/python3.10/dist-packages (from jinja2->torch<3,>=2.1->tabpfn) (2.1.2)\n",
      "Requirement already satisfied: mpmath>=0.19 in /usr/local/lib/python3.10/dist-packages (from sympy->torch<3,>=2.1->tabpfn) (1.3.0)\n",
      "Requirement already satisfied: cffi>=1.0.1 in /usr/local/lib/python3.10/dist-packages (from argon2-cffi-bindings->argon2-cffi->minio->openml) (1.16.0)\n",
      "Requirement already satisfied: pycparser in /usr/local/lib/python3.10/dist-packages (from cffi>=1.0.1->argon2-cffi-bindings->argon2-cffi->minio->openml) (2.21)\n",
      "\u001b[33mWARNING: Running pip as the 'root' user can result in broken permissions and conflicting behaviour with the system package manager. It is recommended to use a virtual environment instead: https://pip.pypa.io/warnings/venv\u001b[0m\u001b[33m\n",
      "\u001b[0m\n",
      "\u001b[1m[\u001b[0m\u001b[34;49mnotice\u001b[0m\u001b[1;39;49m]\u001b[0m\u001b[39;49m A new release of pip is available: \u001b[0m\u001b[31;49m23.3.1\u001b[0m\u001b[39;49m -> \u001b[0m\u001b[32;49m25.1.1\u001b[0m\n",
      "\u001b[1m[\u001b[0m\u001b[34;49mnotice\u001b[0m\u001b[1;39;49m]\u001b[0m\u001b[39;49m To update, run: \u001b[0m\u001b[32;49mpython -m pip install --upgrade pip\u001b[0m\n"
     ]
    }
   ],
   "source": [
    "!pip install tabpfn openml contrastive tqdm"
   ]
  },
  {
   "cell_type": "code",
   "execution_count": 96,
   "id": "b163861e-7508-49a3-9648-5299b2de6a00",
   "metadata": {
    "scrolled": true
   },
   "outputs": [
    {
     "name": "stdout",
     "output_type": "stream",
     "text": [
      "Obtaining file:///workspace/additional-cpca-experiments/notebooks/tabpfn_results/tabicl\n",
      "  Installing build dependencies ... \u001b[?25ldone\n",
      "\u001b[?25h  Checking if build backend supports build_editable ... \u001b[?25ldone\n",
      "\u001b[?25h  Getting requirements to build editable ... \u001b[?25ldone\n",
      "\u001b[?25h  Installing backend dependencies ... \u001b[?25ldone\n",
      "\u001b[?25h  Preparing editable metadata (pyproject.toml) ... \u001b[?25ldone\n",
      "\u001b[?25hRequirement already satisfied: einops>=0.7 in /usr/local/lib/python3.10/dist-packages (from tabicl==0.1.1) (0.8.1)\n",
      "Requirement already satisfied: huggingface-hub in /usr/local/lib/python3.10/dist-packages (from tabicl==0.1.1) (0.31.2)\n",
      "Requirement already satisfied: joblib in /usr/local/lib/python3.10/dist-packages (from tabicl==0.1.1) (1.5.0)\n",
      "Requirement already satisfied: numpy in /usr/local/lib/python3.10/dist-packages (from tabicl==0.1.1) (1.24.1)\n",
      "Requirement already satisfied: psutil in /usr/local/lib/python3.10/dist-packages (from tabicl==0.1.1) (5.9.6)\n",
      "Requirement already satisfied: scikit-learn<1.7,>=1.3.0 in /usr/local/lib/python3.10/dist-packages (from tabicl==0.1.1) (1.6.1)\n",
      "Requirement already satisfied: scipy in /usr/local/lib/python3.10/dist-packages (from tabicl==0.1.1) (1.15.3)\n",
      "Requirement already satisfied: torch<3,>=2.2 in /usr/local/lib/python3.10/dist-packages (from tabicl==0.1.1) (2.7.0)\n",
      "Requirement already satisfied: tqdm>=4.64.0 in /usr/local/lib/python3.10/dist-packages (from tabicl==0.1.1) (4.67.1)\n",
      "Requirement already satisfied: transformers in /usr/local/lib/python3.10/dist-packages (from tabicl==0.1.1) (4.51.3)\n",
      "Requirement already satisfied: wandb in /usr/local/lib/python3.10/dist-packages (from tabicl==0.1.1) (0.19.11)\n",
      "Requirement already satisfied: xgboost in /usr/local/lib/python3.10/dist-packages (from tabicl==0.1.1) (3.0.1)\n",
      "Requirement already satisfied: threadpoolctl>=3.1.0 in /usr/local/lib/python3.10/dist-packages (from scikit-learn<1.7,>=1.3.0->tabicl==0.1.1) (3.6.0)\n",
      "Requirement already satisfied: filelock in /usr/local/lib/python3.10/dist-packages (from torch<3,>=2.2->tabicl==0.1.1) (3.9.0)\n",
      "Requirement already satisfied: typing-extensions>=4.10.0 in /usr/local/lib/python3.10/dist-packages (from torch<3,>=2.2->tabicl==0.1.1) (4.13.2)\n",
      "Requirement already satisfied: sympy>=1.13.3 in /usr/local/lib/python3.10/dist-packages (from torch<3,>=2.2->tabicl==0.1.1) (1.14.0)\n",
      "Requirement already satisfied: networkx in /usr/local/lib/python3.10/dist-packages (from torch<3,>=2.2->tabicl==0.1.1) (3.0)\n",
      "Requirement already satisfied: jinja2 in /usr/local/lib/python3.10/dist-packages (from torch<3,>=2.2->tabicl==0.1.1) (3.1.2)\n",
      "Requirement already satisfied: fsspec in /usr/local/lib/python3.10/dist-packages (from torch<3,>=2.2->tabicl==0.1.1) (2025.3.2)\n",
      "Requirement already satisfied: nvidia-cuda-nvrtc-cu12==12.6.77 in /usr/local/lib/python3.10/dist-packages (from torch<3,>=2.2->tabicl==0.1.1) (12.6.77)\n",
      "Requirement already satisfied: nvidia-cuda-runtime-cu12==12.6.77 in /usr/local/lib/python3.10/dist-packages (from torch<3,>=2.2->tabicl==0.1.1) (12.6.77)\n",
      "Requirement already satisfied: nvidia-cuda-cupti-cu12==12.6.80 in /usr/local/lib/python3.10/dist-packages (from torch<3,>=2.2->tabicl==0.1.1) (12.6.80)\n",
      "Requirement already satisfied: nvidia-cudnn-cu12==9.5.1.17 in /usr/local/lib/python3.10/dist-packages (from torch<3,>=2.2->tabicl==0.1.1) (9.5.1.17)\n",
      "Requirement already satisfied: nvidia-cublas-cu12==12.6.4.1 in /usr/local/lib/python3.10/dist-packages (from torch<3,>=2.2->tabicl==0.1.1) (12.6.4.1)\n",
      "Requirement already satisfied: nvidia-cufft-cu12==11.3.0.4 in /usr/local/lib/python3.10/dist-packages (from torch<3,>=2.2->tabicl==0.1.1) (11.3.0.4)\n",
      "Requirement already satisfied: nvidia-curand-cu12==10.3.7.77 in /usr/local/lib/python3.10/dist-packages (from torch<3,>=2.2->tabicl==0.1.1) (10.3.7.77)\n",
      "Requirement already satisfied: nvidia-cusolver-cu12==11.7.1.2 in /usr/local/lib/python3.10/dist-packages (from torch<3,>=2.2->tabicl==0.1.1) (11.7.1.2)\n",
      "Requirement already satisfied: nvidia-cusparse-cu12==12.5.4.2 in /usr/local/lib/python3.10/dist-packages (from torch<3,>=2.2->tabicl==0.1.1) (12.5.4.2)\n",
      "Requirement already satisfied: nvidia-cusparselt-cu12==0.6.3 in /usr/local/lib/python3.10/dist-packages (from torch<3,>=2.2->tabicl==0.1.1) (0.6.3)\n",
      "Requirement already satisfied: nvidia-nccl-cu12==2.26.2 in /usr/local/lib/python3.10/dist-packages (from torch<3,>=2.2->tabicl==0.1.1) (2.26.2)\n",
      "Requirement already satisfied: nvidia-nvtx-cu12==12.6.77 in /usr/local/lib/python3.10/dist-packages (from torch<3,>=2.2->tabicl==0.1.1) (12.6.77)\n",
      "Requirement already satisfied: nvidia-nvjitlink-cu12==12.6.85 in /usr/local/lib/python3.10/dist-packages (from torch<3,>=2.2->tabicl==0.1.1) (12.6.85)\n",
      "Requirement already satisfied: nvidia-cufile-cu12==1.11.1.6 in /usr/local/lib/python3.10/dist-packages (from torch<3,>=2.2->tabicl==0.1.1) (1.11.1.6)\n",
      "Requirement already satisfied: triton==3.3.0 in /usr/local/lib/python3.10/dist-packages (from torch<3,>=2.2->tabicl==0.1.1) (3.3.0)\n",
      "Requirement already satisfied: setuptools>=40.8.0 in /usr/local/lib/python3.10/dist-packages (from triton==3.3.0->torch<3,>=2.2->tabicl==0.1.1) (68.2.2)\n",
      "Requirement already satisfied: packaging>=20.9 in /usr/local/lib/python3.10/dist-packages (from huggingface-hub->tabicl==0.1.1) (23.2)\n",
      "Requirement already satisfied: pyyaml>=5.1 in /usr/local/lib/python3.10/dist-packages (from huggingface-hub->tabicl==0.1.1) (6.0.1)\n",
      "Requirement already satisfied: requests in /usr/local/lib/python3.10/dist-packages (from huggingface-hub->tabicl==0.1.1) (2.31.0)\n",
      "Requirement already satisfied: regex!=2019.12.17 in /usr/local/lib/python3.10/dist-packages (from transformers->tabicl==0.1.1) (2024.11.6)\n",
      "Requirement already satisfied: tokenizers<0.22,>=0.21 in /usr/local/lib/python3.10/dist-packages (from transformers->tabicl==0.1.1) (0.21.1)\n",
      "Requirement already satisfied: safetensors>=0.4.3 in /usr/local/lib/python3.10/dist-packages (from transformers->tabicl==0.1.1) (0.5.3)\n",
      "Requirement already satisfied: click!=8.0.0,>=7.1 in /usr/local/lib/python3.10/dist-packages (from wandb->tabicl==0.1.1) (8.2.0)\n",
      "Requirement already satisfied: docker-pycreds>=0.4.0 in /usr/local/lib/python3.10/dist-packages (from wandb->tabicl==0.1.1) (0.4.0)\n",
      "Requirement already satisfied: gitpython!=3.1.29,>=1.0.0 in /usr/local/lib/python3.10/dist-packages (from wandb->tabicl==0.1.1) (3.1.44)\n",
      "Requirement already satisfied: platformdirs in /usr/local/lib/python3.10/dist-packages (from wandb->tabicl==0.1.1) (3.11.0)\n",
      "Requirement already satisfied: protobuf!=4.21.0,!=5.28.0,<7,>=3.19.0 in /usr/local/lib/python3.10/dist-packages (from wandb->tabicl==0.1.1) (6.31.0)\n",
      "Requirement already satisfied: pydantic<3 in /usr/local/lib/python3.10/dist-packages (from wandb->tabicl==0.1.1) (2.11.4)\n",
      "Requirement already satisfied: sentry-sdk>=2.0.0 in /usr/local/lib/python3.10/dist-packages (from wandb->tabicl==0.1.1) (2.28.0)\n",
      "Requirement already satisfied: setproctitle in /usr/local/lib/python3.10/dist-packages (from wandb->tabicl==0.1.1) (1.3.6)\n",
      "Requirement already satisfied: six>=1.4.0 in /usr/lib/python3/dist-packages (from docker-pycreds>=0.4.0->wandb->tabicl==0.1.1) (1.16.0)\n",
      "Requirement already satisfied: gitdb<5,>=4.0.1 in /usr/local/lib/python3.10/dist-packages (from gitpython!=3.1.29,>=1.0.0->wandb->tabicl==0.1.1) (4.0.12)\n",
      "Requirement already satisfied: annotated-types>=0.6.0 in /usr/local/lib/python3.10/dist-packages (from pydantic<3->wandb->tabicl==0.1.1) (0.7.0)\n",
      "Requirement already satisfied: pydantic-core==2.33.2 in /usr/local/lib/python3.10/dist-packages (from pydantic<3->wandb->tabicl==0.1.1) (2.33.2)\n",
      "Requirement already satisfied: typing-inspection>=0.4.0 in /usr/local/lib/python3.10/dist-packages (from pydantic<3->wandb->tabicl==0.1.1) (0.4.0)\n",
      "Requirement already satisfied: charset-normalizer<4,>=2 in /usr/local/lib/python3.10/dist-packages (from requests->huggingface-hub->tabicl==0.1.1) (2.1.1)\n",
      "Requirement already satisfied: idna<4,>=2.5 in /usr/local/lib/python3.10/dist-packages (from requests->huggingface-hub->tabicl==0.1.1) (3.4)\n",
      "Requirement already satisfied: urllib3<3,>=1.21.1 in /usr/local/lib/python3.10/dist-packages (from requests->huggingface-hub->tabicl==0.1.1) (1.26.13)\n",
      "Requirement already satisfied: certifi>=2017.4.17 in /usr/local/lib/python3.10/dist-packages (from requests->huggingface-hub->tabicl==0.1.1) (2022.12.7)\n",
      "Requirement already satisfied: mpmath<1.4,>=1.1.0 in /usr/local/lib/python3.10/dist-packages (from sympy>=1.13.3->torch<3,>=2.2->tabicl==0.1.1) (1.3.0)\n",
      "Requirement already satisfied: MarkupSafe>=2.0 in /usr/local/lib/python3.10/dist-packages (from jinja2->torch<3,>=2.2->tabicl==0.1.1) (2.1.2)\n",
      "Requirement already satisfied: smmap<6,>=3.0.1 in /usr/local/lib/python3.10/dist-packages (from gitdb<5,>=4.0.1->gitpython!=3.1.29,>=1.0.0->wandb->tabicl==0.1.1) (5.0.2)\n",
      "Building wheels for collected packages: tabicl\n",
      "  Building editable for tabicl (pyproject.toml) ... \u001b[?25ldone\n",
      "\u001b[?25h  Created wheel for tabicl: filename=tabicl-0.1.1-py3-none-any.whl size=6915 sha256=df9027659eb2947b9023d4e683f6874e1c586afde4e21dc993883d2faa16d2c3\n",
      "  Stored in directory: /tmp/pip-ephem-wheel-cache-ghoz_mwv/wheels/a0/35/75/4b858c0eb991723035f86da0ea792a905b36f780c1e2bd04f0\n",
      "Successfully built tabicl\n",
      "Installing collected packages: tabicl\n",
      "  Attempting uninstall: tabicl\n",
      "    Found existing installation: tabicl 0.1.1\n",
      "    Uninstalling tabicl-0.1.1:\n",
      "      Successfully uninstalled tabicl-0.1.1\n",
      "Successfully installed tabicl-0.1.1\n",
      "\u001b[33mWARNING: Running pip as the 'root' user can result in broken permissions and conflicting behaviour with the system package manager. It is recommended to use a virtual environment instead: https://pip.pypa.io/warnings/venv\u001b[0m\u001b[33m\n",
      "\u001b[0m\n",
      "\u001b[1m[\u001b[0m\u001b[34;49mnotice\u001b[0m\u001b[1;39;49m]\u001b[0m\u001b[39;49m A new release of pip is available: \u001b[0m\u001b[31;49m23.3.1\u001b[0m\u001b[39;49m -> \u001b[0m\u001b[32;49m25.1.1\u001b[0m\n",
      "\u001b[1m[\u001b[0m\u001b[34;49mnotice\u001b[0m\u001b[1;39;49m]\u001b[0m\u001b[39;49m To update, run: \u001b[0m\u001b[32;49mpython -m pip install --upgrade pip\u001b[0m\n"
     ]
    }
   ],
   "source": [
    "!cd tabicl && pip install -e ."
   ]
  },
  {
   "cell_type": "markdown",
   "id": "a77cff48-2a24-497a-98b1-38feb29fb278",
   "metadata": {},
   "source": [
    "### Get Dataset from OpenML"
   ]
  },
  {
   "cell_type": "code",
   "execution_count": 2,
   "id": "0ee866a5-9741-4c91-94de-fa658f9a4cf6",
   "metadata": {},
   "outputs": [
    {
     "name": "stdout",
     "output_type": "stream",
     "text": [
      "OpenML Benchmark Suite\n",
      "======================\n",
      "ID..............: 99\n",
      "Name............: OpenML-CC18 Curated Classification benchmark\n",
      "Status..........: active\n",
      "Main Entity Type: task\n",
      "Study URL.......: https://www.openml.org/s/99\n",
      "# of Data.......: 72\n",
      "# of Tasks......: 72\n",
      "Creator.........: https://www.openml.org/u/1\n",
      "Upload Time.....: 2019-02-21 18:47:13\n"
     ]
    }
   ],
   "source": [
    "import openml\n",
    "\n",
    "suite = openml.study.get_suite(99)\n",
    "print(suite)"
   ]
  },
  {
   "cell_type": "code",
   "execution_count": 3,
   "id": "2e367cdb-c081-42e4-b417-a8177b503813",
   "metadata": {
    "scrolled": true
   },
   "outputs": [],
   "source": [
    "VERBOSE = False\n",
    "\n",
    "if VERBOSE:\n",
    "    for task_id in suite.tasks[:30]:\n",
    "        task = openml.tasks.get_task(task_id)\n",
    "        print(task)\n",
    "        print(dir(task))"
   ]
  },
  {
   "cell_type": "markdown",
   "id": "46fed838-f880-49de-9903-68a2ca2c3663",
   "metadata": {},
   "source": [
    "### Split Foreground and Background Data"
   ]
  },
  {
   "cell_type": "code",
   "execution_count": 100,
   "id": "279b839d-f36a-48c2-87bb-a3ca3ea04d6c",
   "metadata": {},
   "outputs": [
    {
     "name": "stderr",
     "output_type": "stream",
     "text": [
      "/tmp/ipykernel_155/343100232.py:15: FutureWarning: Support for `dataset_format='array'` will be removed in 0.15,start using `dataset_format='dataframe' to ensure your code will continue to work. You can use the dataframe's `to_numpy` function to continue using numpy arrays.\n",
      "  X, y = task.get_X_and_y()\n",
      "/usr/local/lib/python3.10/dist-packages/openml/tasks/task.py:334: FutureWarning: Support for `dataset_format='array'` will be removed in 0.15,start using `dataset_format='dataframe' to ensure your code will continue to work. You can use the dataframe's `to_numpy` function to continue using numpy arrays.\n",
      "  X, y, _, _ = dataset.get_data(\n"
     ]
    },
    {
     "name": "stdout",
     "output_type": "stream",
     "text": [
      "OpenML Classification Task\n",
      "==========================\n",
      "Task Type Description: https://www.openml.org/tt/TaskType.SUPERVISED_CLASSIFICATION\n",
      "Task ID..............: 3560\n",
      "Task URL.............: https://www.openml.org/t/3560\n",
      "Estimation Procedure.: crossvalidation\n",
      "Target Feature.......: Prevention\n",
      "# of Classes.........: 6\n",
      "Cost Matrix..........: Available\n"
     ]
    },
    {
     "name": "stderr",
     "output_type": "stream",
     "text": [
      "100%|██████████| 797/797 [00:00<00:00, 794972.72it/s]\n"
     ]
    }
   ],
   "source": [
    "import tqdm\n",
    "import numpy as np\n",
    "\n",
    "# TASK_ID=11 # balance scale\n",
    "# TASK_ID=167140 # dna\n",
    "# TASK_ID= 53 # vehicle\n",
    "# TASK_ID=2074 # SAT IMAgE\n",
    "# TASK_ID = 167140 #DNA\n",
    "TASK_ID =3560 #authorship\n",
    "# TASK_ID=12\n",
    "\n",
    "task = openml.tasks.get_task(TASK_ID)\n",
    "print(task)\n",
    "\n",
    "X, y = task.get_X_and_y()\n",
    "X = np.asarray(X)\n",
    "y = np.asarray(y)\n",
    "\n",
    "X_foreground = []\n",
    "y_foreground = []\n",
    "\n",
    "X_background = []\n",
    "y_background = []\n",
    "\n",
    "\n",
    "\n",
    "for i in tqdm.trange(X.shape[0]):\n",
    "    if y[i] not in [0,1]:\n",
    "        X_background.append(X[i])\n",
    "        y_background.append(y[i])\n",
    "    else:\n",
    "        X_foreground.append(X[i])\n",
    "        y_foreground.append(y[i])\n",
    "\n",
    "X_foreground = np.asarray(X_foreground)\n",
    "X_background = np.asarray(X_background)"
   ]
  },
  {
   "cell_type": "code",
   "execution_count": 101,
   "id": "f567efac-bac5-42a5-a466-e6fe0010d2e8",
   "metadata": {},
   "outputs": [
    {
     "name": "stdout",
     "output_type": "stream",
     "text": [
      "foreground shape: (259, 4)\n",
      "background shape: (538, 4)\n"
     ]
    }
   ],
   "source": [
    "print(f\"foreground shape: {X_foreground.shape}\")\n",
    "print(f\"background shape: {X_background.shape}\")"
   ]
  },
  {
   "cell_type": "markdown",
   "id": "93b880a8-f837-4575-b8ac-1a09b06ee84f",
   "metadata": {},
   "source": [
    "### Run TabPFN with no PCA or cPCA"
   ]
  },
  {
   "cell_type": "code",
   "execution_count": 102,
   "id": "62d84172-ec2a-46ba-b4f8-0d9e0b3c9394",
   "metadata": {},
   "outputs": [
    {
     "name": "stdout",
     "output_type": "stream",
     "text": [
      "Accuracy with no PCA or cPCA:\n",
      "ROC AUC: 0.633\n",
      "Accuracy 0.577\n"
     ]
    }
   ],
   "source": [
    "from sklearn.metrics import accuracy_score, roc_auc_score\n",
    "from sklearn.model_selection import train_test_split\n",
    "\n",
    "from tabpfn import TabPFNClassifier\n",
    "\n",
    "# Load data\n",
    "# task = openml.tasks.get_task(TASK_ID)\n",
    "# X, y = task.get_X_and_y()\n",
    "X_train, X_test, y_train, y_test = train_test_split(X_foreground, y_foreground, test_size=0.2, random_state=42)\n",
    "\n",
    "# Initialize a classifier\n",
    "clf = TabPFNClassifier(ignore_pretraining_limits=True)\n",
    "clf.fit(X_train, y_train)\n",
    "\n",
    "print(\"Accuracy with no PCA or cPCA:\")\n",
    "\n",
    "# Predict probabilities\n",
    "prediction_probabilities = clf.predict_proba(X_test)\n",
    "print(\"ROC AUC:\", round(roc_auc_score(y_test, prediction_probabilities[:, 1]),3))\n",
    "\n",
    "# Predict labels\n",
    "predictions = clf.predict(X_test)\n",
    "print(\"Accuracy\", round(accuracy_score(y_test, predictions),3))"
   ]
  },
  {
   "cell_type": "code",
   "execution_count": 94,
   "id": "8da82f40-db7e-431a-803d-df1f131f66a5",
   "metadata": {},
   "outputs": [
    {
     "name": "stdout",
     "output_type": "stream",
     "text": [
      "Accuracy with no PCA or cPCA:\n",
      "Accuracy 1.0\n"
     ]
    }
   ],
   "source": [
    "from sklearn.svm import SVC\n",
    "\n",
    "X_train, X_test, y_train, y_test = train_test_split(X_foreground, y_foreground, test_size=0.2, random_state=42)\n",
    "\n",
    "# Initialize a classifier\n",
    "clf = SVC()\n",
    "clf.fit(X_train, y_train)\n",
    "\n",
    "print(\"Accuracy with no PCA or cPCA:\")\n",
    "\n",
    "# Predict labels\n",
    "predictions = clf.predict(X_test)\n",
    "print(\"Accuracy\", round(accuracy_score(y_test, predictions),3))"
   ]
  },
  {
   "cell_type": "code",
   "execution_count": 97,
   "id": "5b40ab92-5340-4aed-9b88-bea4aef96ed3",
   "metadata": {},
   "outputs": [
    {
     "ename": "ImportError",
     "evalue": "cannot import name 'TabICLClassifier' from 'tabicl' (unknown location)",
     "output_type": "error",
     "traceback": [
      "\u001b[0;31m---------------------------------------------------------------------------\u001b[0m",
      "\u001b[0;31mImportError\u001b[0m                               Traceback (most recent call last)",
      "Cell \u001b[0;32mIn[97], line 1\u001b[0m\n\u001b[0;32m----> 1\u001b[0m \u001b[38;5;28;01mfrom\u001b[39;00m \u001b[38;5;21;01mtabicl\u001b[39;00m \u001b[38;5;28;01mimport\u001b[39;00m TabICLClassifier\n\u001b[1;32m      3\u001b[0m clf \u001b[38;5;241m=\u001b[39m TabICLClassifier()\n\u001b[1;32m      4\u001b[0m clf\u001b[38;5;241m.\u001b[39mfit(X_train, y_train)  \u001b[38;5;66;03m# this is cheap\u001b[39;00m\n",
      "\u001b[0;31mImportError\u001b[0m: cannot import name 'TabICLClassifier' from 'tabicl' (unknown location)"
     ]
    }
   ],
   "source": [
    "from tabicl import TabICLClassifier\n",
    "\n",
    "clf = TabICLClassifier()\n",
    "clf.fit(X_train, y_train)  # this is cheap\n",
    "clf.predict(X_test)  # in-context learning happens here"
   ]
  },
  {
   "cell_type": "markdown",
   "id": "425daded-37fa-4e21-9936-83ef0d117b2f",
   "metadata": {},
   "source": [
    "### Run TabPFN with PCA"
   ]
  },
  {
   "cell_type": "code",
   "execution_count": 87,
   "id": "ac50e3dc-5fe3-4b00-b451-14bda49cfda7",
   "metadata": {},
   "outputs": [
    {
     "name": "stdout",
     "output_type": "stream",
     "text": [
      "Accuracy with PCA:\n",
      "ROC AUC: 0.606\n",
      "Accuracy 0.577\n"
     ]
    }
   ],
   "source": [
    "from sklearn.decomposition import PCA\n",
    "\n",
    "pca_model = PCA(n_components=2)\n",
    "X_data_original_compress = pca_model.fit_transform(X_foreground)\n",
    "\n",
    "X_train, X_test, y_train, y_test = train_test_split(X_data_original_compress, y_foreground, test_size=0.2, random_state=42)\n",
    "\n",
    "# Initialize a classifier\n",
    "clf = TabPFNClassifier()\n",
    "clf.fit(X_train, y_train)\n",
    "\n",
    "print(\"Accuracy with PCA:\")\n",
    "\n",
    "# Predict probabilities\n",
    "prediction_probabilities = clf.predict_proba(X_test)\n",
    "print(\"ROC AUC:\", round(roc_auc_score(y_test, prediction_probabilities[:, 1]),3))\n",
    "\n",
    "# Predict labels\n",
    "predictions = clf.predict(X_test)\n",
    "print(\"Accuracy\", round(accuracy_score(y_test, predictions),3))\n"
   ]
  },
  {
   "cell_type": "code",
   "execution_count": 88,
   "id": "3e4b3d69-a387-4e17-8ec4-ed58fa7bcacc",
   "metadata": {},
   "outputs": [
    {
     "name": "stdout",
     "output_type": "stream",
     "text": [
      "Accuracy with PCA:\n",
      "Accuracy 0.558\n"
     ]
    }
   ],
   "source": [
    "from sklearn.svm import SVC\n",
    "\n",
    "X_train, X_test, y_train, y_test = train_test_split(X_data_original_compress, y_foreground, test_size=0.2, random_state=42)\n",
    "\n",
    "# Initialize a classifier\n",
    "clf = SVC()\n",
    "clf.fit(X_train, y_train)\n",
    "\n",
    "print(\"Accuracy with PCA:\")\n",
    "\n",
    "# Predict labels\n",
    "predictions = clf.predict(X_test)\n",
    "print(\"Accuracy\", round(accuracy_score(y_test, predictions),3))"
   ]
  },
  {
   "cell_type": "markdown",
   "id": "f044b98e-2b86-4a9d-9b8a-0a6f091cca48",
   "metadata": {},
   "source": [
    "### Run TabPFN with cPCA"
   ]
  },
  {
   "cell_type": "code",
   "execution_count": 89,
   "id": "b30933d0-80c3-46c3-9d1c-7373d84a8f88",
   "metadata": {},
   "outputs": [
    {
     "name": "stdout",
     "output_type": "stream",
     "text": [
      "Accuracy with cPCA:\n",
      "-------------------\n",
      "choice 1 of alpha:\n",
      "tabpfn Accuracy 0.558\n",
      "svc Accuracy 0.558\n",
      "\n",
      "choice 2 of alpha:\n",
      "tabpfn Accuracy 0.481\n",
      "svc Accuracy 0.5\n",
      "\n",
      "choice 3 of alpha:\n",
      "tabpfn Accuracy 0.462\n",
      "svc Accuracy 0.654\n",
      "\n",
      "choice 4 of alpha:\n",
      "tabpfn Accuracy 0.5\n",
      "svc Accuracy 0.635\n",
      "\n"
     ]
    }
   ],
   "source": [
    "from contrastive import CPCA\n",
    "\n",
    "mdl = CPCA(n_components=2)\n",
    "projected_data = mdl.fit_transform(X_foreground, X_background)\n",
    "\n",
    "#returns a set of 2-dimensional projections of the foreground data stored in the list 'projected_data', for several different values of 'alpha' that are automatically chosen (by default, 4 values of alpha are chosen)\n",
    "\n",
    "print(\"Accuracy with cPCA:\")\n",
    "print(\"-------------------\")\n",
    "\n",
    "for i in range(np.asarray(projected_data).shape[0]):\n",
    "    X_train, X_test, y_train, y_test = train_test_split(np.asarray(projected_data)[i], y_foreground, test_size=0.2, random_state=42)\n",
    "    \n",
    "    # Initialize a classifier\n",
    "    clf = TabPFNClassifier()\n",
    "    clf.fit(X_train, y_train)\n",
    "\n",
    "    print(f\"choice {i+1} of alpha:\")\n",
    "    # Predict probabilities\n",
    "    # prediction_probabilities = clf.predict_proba(X_test)\n",
    "    # print(\"ROC AUC:\", round(roc_auc_score(y_test, prediction_probabilities[:, 1]),3))\n",
    "    \n",
    "    # Predict labels\n",
    "    predictions = clf.predict(X_test)\n",
    "    print(\"tabpfn Accuracy\", round(accuracy_score(y_test, predictions),3))\n",
    "\n",
    "    # Initialize a classifier\n",
    "    clf = SVC()\n",
    "    clf.fit(X_train, y_train)\n",
    "    \n",
    "    # print(\"Accuracy with PCA:\")\n",
    "    \n",
    "    # Predict labels\n",
    "    predictions = clf.predict(X_test)\n",
    "    print(\"svc Accuracy\", round(accuracy_score(y_test, predictions),3))\n",
    "    print()\n"
   ]
  }
 ],
 "metadata": {
  "kernelspec": {
   "display_name": "Python 3 (ipykernel)",
   "language": "python",
   "name": "python3"
  },
  "language_info": {
   "codemirror_mode": {
    "name": "ipython",
    "version": 3
   },
   "file_extension": ".py",
   "mimetype": "text/x-python",
   "name": "python",
   "nbconvert_exporter": "python",
   "pygments_lexer": "ipython3",
   "version": "3.10.12"
  }
 },
 "nbformat": 4,
 "nbformat_minor": 5
}
