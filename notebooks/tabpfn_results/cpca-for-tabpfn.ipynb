{
 "cells": [
  {
   "cell_type": "markdown",
   "id": "522d7419-115e-4485-b2a3-ac951b6da9a4",
   "metadata": {},
   "source": [
    "# Using cPCA for Tabular In-Context Learning\n",
    "\n",
    "Following the release of [TabPFN](https://arxiv.org/abs/2207.01848) as a transformer model capable of strong in-context learning (ICL) on tabular data, this project aims to evaluate using contrastive PCA (cPCA) as an additional method to further increase TabPFN learning on tabular data. \n",
    "\n",
    "Benefits of adding cPCA as a preprocessing step before TabPFN include:\n",
    "\n",
    "- an improvement in classification accuracy\n",
    "- a reduction in the number of features, thus decreasing dataset size and improving TabPFN inference time\n",
    "\n",
    "### Summary of results:\n",
    "\n",
    "These results were run on the [balance-scale (UCI)](https://www.openml.org/search?type=data&id=11) dataset from OpenML. \n",
    "\n",
    "| Preprocessing | Accuracy |\n",
    "| --- | --- |\n",
    "| None | 0.941 |\n",
    "| PCA (2-dimensions) | 0.853 | \n",
    "| cPCA (2-dimensions) (best score) | **0.956** | "
   ]
  },
  {
   "cell_type": "markdown",
   "id": "b5cb90ce-906a-4ea7-9410-2da8ebc92fdd",
   "metadata": {},
   "source": [
    "### Install Packages"
   ]
  },
  {
   "cell_type": "code",
   "execution_count": 74,
   "id": "3863934c-de8a-4d70-b6c6-af0e3d72c153",
   "metadata": {
    "scrolled": true
   },
   "outputs": [
    {
     "name": "stdout",
     "output_type": "stream",
     "text": [
      "Requirement already satisfied: tabpfn in /usr/local/lib/python3.10/dist-packages (2.0.9)\n",
      "Requirement already satisfied: openml in /usr/local/lib/python3.10/dist-packages (0.15.1)\n",
      "Requirement already satisfied: contrastive in /usr/local/lib/python3.10/dist-packages (1.2.0)\n",
      "Requirement already satisfied: tqdm in /usr/local/lib/python3.10/dist-packages (4.67.1)\n",
      "Requirement already satisfied: torch<3,>=2.1 in /usr/local/lib/python3.10/dist-packages (from tabpfn) (2.1.0+cu118)\n",
      "Requirement already satisfied: scikit-learn<1.7,>=1.2.0 in /usr/local/lib/python3.10/dist-packages (from tabpfn) (1.6.1)\n",
      "Requirement already satisfied: typing_extensions>=4.4.0 in /usr/local/lib/python3.10/dist-packages (from tabpfn) (4.4.0)\n",
      "Requirement already satisfied: scipy<2,>=1.11.1 in /usr/local/lib/python3.10/dist-packages (from tabpfn) (1.15.3)\n",
      "Requirement already satisfied: pandas<3,>=1.4.0 in /usr/local/lib/python3.10/dist-packages (from tabpfn) (2.2.3)\n",
      "Requirement already satisfied: einops<0.9,>=0.2.0 in /usr/local/lib/python3.10/dist-packages (from tabpfn) (0.8.1)\n",
      "Requirement already satisfied: huggingface-hub<1,>=0.0.1 in /usr/local/lib/python3.10/dist-packages (from tabpfn) (0.31.2)\n",
      "Requirement already satisfied: liac-arff>=2.4.0 in /usr/local/lib/python3.10/dist-packages (from openml) (2.5.0)\n",
      "Requirement already satisfied: xmltodict in /usr/local/lib/python3.10/dist-packages (from openml) (0.14.2)\n",
      "Requirement already satisfied: requests in /usr/local/lib/python3.10/dist-packages (from openml) (2.31.0)\n",
      "Requirement already satisfied: python-dateutil in /usr/local/lib/python3.10/dist-packages (from openml) (2.8.2)\n",
      "Requirement already satisfied: numpy>=1.6.2 in /usr/local/lib/python3.10/dist-packages (from openml) (1.24.1)\n",
      "Requirement already satisfied: minio in /usr/local/lib/python3.10/dist-packages (from openml) (7.2.15)\n",
      "Requirement already satisfied: pyarrow in /usr/local/lib/python3.10/dist-packages (from openml) (20.0.0)\n",
      "Requirement already satisfied: packaging in /usr/local/lib/python3.10/dist-packages (from openml) (23.2)\n",
      "Requirement already satisfied: matplotlib in /usr/local/lib/python3.10/dist-packages (from contrastive) (3.10.3)\n",
      "Requirement already satisfied: filelock in /usr/local/lib/python3.10/dist-packages (from huggingface-hub<1,>=0.0.1->tabpfn) (3.9.0)\n",
      "Requirement already satisfied: fsspec>=2023.5.0 in /usr/local/lib/python3.10/dist-packages (from huggingface-hub<1,>=0.0.1->tabpfn) (2025.3.2)\n",
      "Requirement already satisfied: pyyaml>=5.1 in /usr/local/lib/python3.10/dist-packages (from huggingface-hub<1,>=0.0.1->tabpfn) (6.0.1)\n",
      "Requirement already satisfied: pytz>=2020.1 in /usr/local/lib/python3.10/dist-packages (from pandas<3,>=1.4.0->tabpfn) (2025.2)\n",
      "Requirement already satisfied: tzdata>=2022.7 in /usr/local/lib/python3.10/dist-packages (from pandas<3,>=1.4.0->tabpfn) (2025.2)\n",
      "Requirement already satisfied: six>=1.5 in /usr/lib/python3/dist-packages (from python-dateutil->openml) (1.16.0)\n",
      "Requirement already satisfied: joblib>=1.2.0 in /usr/local/lib/python3.10/dist-packages (from scikit-learn<1.7,>=1.2.0->tabpfn) (1.5.0)\n",
      "Requirement already satisfied: threadpoolctl>=3.1.0 in /usr/local/lib/python3.10/dist-packages (from scikit-learn<1.7,>=1.2.0->tabpfn) (3.6.0)\n",
      "Requirement already satisfied: sympy in /usr/local/lib/python3.10/dist-packages (from torch<3,>=2.1->tabpfn) (1.12)\n",
      "Requirement already satisfied: networkx in /usr/local/lib/python3.10/dist-packages (from torch<3,>=2.1->tabpfn) (3.0)\n",
      "Requirement already satisfied: jinja2 in /usr/local/lib/python3.10/dist-packages (from torch<3,>=2.1->tabpfn) (3.1.2)\n",
      "Requirement already satisfied: triton==2.1.0 in /usr/local/lib/python3.10/dist-packages (from torch<3,>=2.1->tabpfn) (2.1.0)\n",
      "Requirement already satisfied: contourpy>=1.0.1 in /usr/local/lib/python3.10/dist-packages (from matplotlib->contrastive) (1.3.2)\n",
      "Requirement already satisfied: cycler>=0.10 in /usr/local/lib/python3.10/dist-packages (from matplotlib->contrastive) (0.12.1)\n",
      "Requirement already satisfied: fonttools>=4.22.0 in /usr/local/lib/python3.10/dist-packages (from matplotlib->contrastive) (4.58.0)\n",
      "Requirement already satisfied: kiwisolver>=1.3.1 in /usr/local/lib/python3.10/dist-packages (from matplotlib->contrastive) (1.4.8)\n",
      "Requirement already satisfied: pillow>=8 in /usr/local/lib/python3.10/dist-packages (from matplotlib->contrastive) (9.3.0)\n",
      "Requirement already satisfied: pyparsing>=2.3.1 in /usr/lib/python3/dist-packages (from matplotlib->contrastive) (2.4.7)\n",
      "Requirement already satisfied: certifi in /usr/local/lib/python3.10/dist-packages (from minio->openml) (2022.12.7)\n",
      "Requirement already satisfied: urllib3 in /usr/local/lib/python3.10/dist-packages (from minio->openml) (1.26.13)\n",
      "Requirement already satisfied: argon2-cffi in /usr/local/lib/python3.10/dist-packages (from minio->openml) (23.1.0)\n",
      "Requirement already satisfied: pycryptodome in /usr/local/lib/python3.10/dist-packages (from minio->openml) (3.22.0)\n",
      "Requirement already satisfied: charset-normalizer<4,>=2 in /usr/local/lib/python3.10/dist-packages (from requests->openml) (2.1.1)\n",
      "Requirement already satisfied: idna<4,>=2.5 in /usr/local/lib/python3.10/dist-packages (from requests->openml) (3.4)\n",
      "Requirement already satisfied: argon2-cffi-bindings in /usr/local/lib/python3.10/dist-packages (from argon2-cffi->minio->openml) (21.2.0)\n",
      "Requirement already satisfied: MarkupSafe>=2.0 in /usr/local/lib/python3.10/dist-packages (from jinja2->torch<3,>=2.1->tabpfn) (2.1.2)\n",
      "Requirement already satisfied: mpmath>=0.19 in /usr/local/lib/python3.10/dist-packages (from sympy->torch<3,>=2.1->tabpfn) (1.3.0)\n",
      "Requirement already satisfied: cffi>=1.0.1 in /usr/local/lib/python3.10/dist-packages (from argon2-cffi-bindings->argon2-cffi->minio->openml) (1.16.0)\n",
      "Requirement already satisfied: pycparser in /usr/local/lib/python3.10/dist-packages (from cffi>=1.0.1->argon2-cffi-bindings->argon2-cffi->minio->openml) (2.21)\n",
      "\u001b[33mWARNING: Running pip as the 'root' user can result in broken permissions and conflicting behaviour with the system package manager. It is recommended to use a virtual environment instead: https://pip.pypa.io/warnings/venv\u001b[0m\u001b[33m\n",
      "\u001b[0m\n",
      "\u001b[1m[\u001b[0m\u001b[34;49mnotice\u001b[0m\u001b[1;39;49m]\u001b[0m\u001b[39;49m A new release of pip is available: \u001b[0m\u001b[31;49m23.3.1\u001b[0m\u001b[39;49m -> \u001b[0m\u001b[32;49m25.1.1\u001b[0m\n",
      "\u001b[1m[\u001b[0m\u001b[34;49mnotice\u001b[0m\u001b[1;39;49m]\u001b[0m\u001b[39;49m To update, run: \u001b[0m\u001b[32;49mpython -m pip install --upgrade pip\u001b[0m\n"
     ]
    }
   ],
   "source": [
    "!pip install tabpfn openml contrastive tqdm"
   ]
  },
  {
   "cell_type": "markdown",
   "id": "a77cff48-2a24-497a-98b1-38feb29fb278",
   "metadata": {},
   "source": [
    "### Get Dataset from OpenML"
   ]
  },
  {
   "cell_type": "code",
   "execution_count": 98,
   "id": "0ee866a5-9741-4c91-94de-fa658f9a4cf6",
   "metadata": {},
   "outputs": [
    {
     "name": "stdout",
     "output_type": "stream",
     "text": [
      "OpenML Benchmark Suite\n",
      "======================\n",
      "ID..............: 99\n",
      "Name............: OpenML-CC18 Curated Classification benchmark\n",
      "Status..........: active\n",
      "Main Entity Type: task\n",
      "Study URL.......: https://www.openml.org/s/99\n",
      "# of Data.......: 72\n",
      "# of Tasks......: 72\n",
      "Creator.........: https://www.openml.org/u/1\n",
      "Upload Time.....: 2019-02-21 18:47:13\n"
     ]
    }
   ],
   "source": [
    "import openml\n",
    "\n",
    "suite = openml.study.get_suite(99)\n",
    "print(suite)"
   ]
  },
  {
   "cell_type": "code",
   "execution_count": 97,
   "id": "2e367cdb-c081-42e4-b417-a8177b503813",
   "metadata": {
    "scrolled": true
   },
   "outputs": [],
   "source": [
    "VERBOSE = False\n",
    "\n",
    "if VERBOSE:\n",
    "    for task_id in suite.tasks[:30]:\n",
    "        task = openml.tasks.get_task(task_id)\n",
    "        print(task)\n",
    "        print(dir(task))"
   ]
  },
  {
   "cell_type": "markdown",
   "id": "46fed838-f880-49de-9903-68a2ca2c3663",
   "metadata": {},
   "source": [
    "### Split Foreground and Background Data"
   ]
  },
  {
   "cell_type": "code",
   "execution_count": 99,
   "id": "279b839d-f36a-48c2-87bb-a3ca3ea04d6c",
   "metadata": {},
   "outputs": [
    {
     "name": "stderr",
     "output_type": "stream",
     "text": [
      "/tmp/ipykernel_433/1249146756.py:9: FutureWarning: Support for `dataset_format='array'` will be removed in 0.15,start using `dataset_format='dataframe' to ensure your code will continue to work. You can use the dataframe's `to_numpy` function to continue using numpy arrays.\n",
      "  X, y = task.get_X_and_y()\n",
      "/usr/local/lib/python3.10/dist-packages/openml/tasks/task.py:334: FutureWarning: Support for `dataset_format='array'` will be removed in 0.15,start using `dataset_format='dataframe' to ensure your code will continue to work. You can use the dataframe's `to_numpy` function to continue using numpy arrays.\n",
      "  X, y, _, _ = dataset.get_data(\n"
     ]
    },
    {
     "name": "stdout",
     "output_type": "stream",
     "text": [
      "OpenML Classification Task\n",
      "==========================\n",
      "Task Type Description: https://www.openml.org/tt/TaskType.SUPERVISED_CLASSIFICATION\n",
      "Task ID..............: 11\n",
      "Task URL.............: https://www.openml.org/t/11\n",
      "Estimation Procedure.: crossvalidation\n",
      "Target Feature.......: class\n",
      "# of Classes.........: 3\n",
      "Cost Matrix..........: Available\n"
     ]
    },
    {
     "name": "stderr",
     "output_type": "stream",
     "text": [
      "100%|██████████| 625/625 [00:00<00:00, 439175.74it/s]\n"
     ]
    }
   ],
   "source": [
    "import tqdm\n",
    "import numpy as np\n",
    "\n",
    "\n",
    "TASK_ID=11\n",
    "task = openml.tasks.get_task(TASK_ID)\n",
    "print(task)\n",
    "\n",
    "X, y = task.get_X_and_y()\n",
    "X = np.asarray(X)\n",
    "y = np.asarray(y)\n",
    "\n",
    "X_foreground = []\n",
    "y_foreground = []\n",
    "\n",
    "X_background = []\n",
    "y_background = []\n",
    "\n",
    "for i in tqdm.trange(X.shape[0]):\n",
    "    if y[i]==2:\n",
    "        X_background.append(X[i])\n",
    "        y_background.append(y[i])\n",
    "    else:\n",
    "        X_foreground.append(X[i])\n",
    "        y_foreground.append(y[i])\n",
    "\n",
    "X_foreground = np.asarray(X_foreground)\n",
    "X_background = np.asarray(X_background)"
   ]
  },
  {
   "cell_type": "code",
   "execution_count": 100,
   "id": "f567efac-bac5-42a5-a466-e6fe0010d2e8",
   "metadata": {},
   "outputs": [
    {
     "name": "stdout",
     "output_type": "stream",
     "text": [
      "foreground shape: (337, 4)\n",
      "background shape: (288, 4)\n"
     ]
    }
   ],
   "source": [
    "print(f\"foreground shape: {X_foreground.shape}\")\n",
    "print(f\"background shape: {X_background.shape}\")"
   ]
  },
  {
   "cell_type": "markdown",
   "id": "93b880a8-f837-4575-b8ac-1a09b06ee84f",
   "metadata": {},
   "source": [
    "### Run TabPFN with no PCA or cPCA"
   ]
  },
  {
   "cell_type": "code",
   "execution_count": 103,
   "id": "62d84172-ec2a-46ba-b4f8-0d9e0b3c9394",
   "metadata": {},
   "outputs": [
    {
     "name": "stderr",
     "output_type": "stream",
     "text": [
      "/tmp/ipykernel_433/2128271966.py:9: FutureWarning: Support for `dataset_format='array'` will be removed in 0.15,start using `dataset_format='dataframe' to ensure your code will continue to work. You can use the dataframe's `to_numpy` function to continue using numpy arrays.\n",
      "  X, y = task.get_X_and_y()\n",
      "/usr/local/lib/python3.10/dist-packages/openml/tasks/task.py:334: FutureWarning: Support for `dataset_format='array'` will be removed in 0.15,start using `dataset_format='dataframe' to ensure your code will continue to work. You can use the dataframe's `to_numpy` function to continue using numpy arrays.\n",
      "  X, y, _, _ = dataset.get_data(\n"
     ]
    },
    {
     "name": "stdout",
     "output_type": "stream",
     "text": [
      "Accuracy with no PCA or cPCA:\n",
      "ROC AUC: 0.969\n",
      "Accuracy 0.941\n"
     ]
    }
   ],
   "source": [
    "from sklearn.metrics import accuracy_score, roc_auc_score\n",
    "from sklearn.model_selection import train_test_split\n",
    "\n",
    "from tabpfn import TabPFNClassifier\n",
    "\n",
    "# Load data\n",
    "task = openml.tasks.get_task(45)\n",
    "X, y = task.get_X_and_y()\n",
    "X_train, X_test, y_train, y_test = train_test_split(X_foreground, y_foreground, test_size=0.2, random_state=42)\n",
    "\n",
    "# Initialize a classifier\n",
    "clf = TabPFNClassifier()\n",
    "clf.fit(X_train, y_train)\n",
    "\n",
    "print(\"Accuracy with no PCA or cPCA:\")\n",
    "\n",
    "# Predict probabilities\n",
    "prediction_probabilities = clf.predict_proba(X_test)\n",
    "print(\"ROC AUC:\", round(roc_auc_score(y_test, prediction_probabilities[:, 1]),3))\n",
    "\n",
    "# Predict labels\n",
    "predictions = clf.predict(X_test)\n",
    "print(\"Accuracy\", round(accuracy_score(y_test, predictions),3))"
   ]
  },
  {
   "cell_type": "markdown",
   "id": "425daded-37fa-4e21-9936-83ef0d117b2f",
   "metadata": {},
   "source": [
    "### Run TabPFN with PCA"
   ]
  },
  {
   "cell_type": "code",
   "execution_count": 105,
   "id": "ac50e3dc-5fe3-4b00-b451-14bda49cfda7",
   "metadata": {},
   "outputs": [
    {
     "name": "stdout",
     "output_type": "stream",
     "text": [
      "Accuracy with PCA:\n",
      "ROC AUC: 0.925\n",
      "Accuracy 0.853\n"
     ]
    }
   ],
   "source": [
    "from sklearn.decomposition import PCA\n",
    "\n",
    "pca_model = PCA(n_components=2)\n",
    "X_data_original_compress = pca_model.fit_transform(X_foreground)\n",
    "\n",
    "X_train, X_test, y_train, y_test = train_test_split(X_data_original_compress, y_foreground, test_size=0.2, random_state=42)\n",
    "\n",
    "# Initialize a classifier\n",
    "clf = TabPFNClassifier()\n",
    "clf.fit(X_train, y_train)\n",
    "\n",
    "print(\"Accuracy with PCA:\")\n",
    "\n",
    "# Predict probabilities\n",
    "prediction_probabilities = clf.predict_proba(X_test)\n",
    "print(\"ROC AUC:\", round(roc_auc_score(y_test, prediction_probabilities[:, 1]),3))\n",
    "\n",
    "# Predict labels\n",
    "predictions = clf.predict(X_test)\n",
    "print(\"Accuracy\", round(accuracy_score(y_test, predictions),3))\n"
   ]
  },
  {
   "cell_type": "markdown",
   "id": "f044b98e-2b86-4a9d-9b8a-0a6f091cca48",
   "metadata": {},
   "source": [
    "### Run TabPFN with cPCA"
   ]
  },
  {
   "cell_type": "code",
   "execution_count": 108,
   "id": "b30933d0-80c3-46c3-9d1c-7373d84a8f88",
   "metadata": {},
   "outputs": [
    {
     "name": "stdout",
     "output_type": "stream",
     "text": [
      "Accuracy with cPCA:\n",
      "-------------------\n",
      "choice 1 of alpha:\n",
      "ROC AUC: 0.971\n",
      "Accuracy 0.956\n",
      "\n",
      "choice 2 of alpha:\n",
      "ROC AUC: 0.964\n",
      "Accuracy 0.897\n",
      "\n",
      "choice 3 of alpha:\n",
      "ROC AUC: 0.955\n",
      "Accuracy 0.868\n",
      "\n",
      "choice 4 of alpha:\n",
      "ROC AUC: 0.962\n",
      "Accuracy 0.897\n",
      "\n"
     ]
    }
   ],
   "source": [
    "from contrastive import CPCA\n",
    "\n",
    "mdl = CPCA(n_components=2)\n",
    "projected_data = mdl.fit_transform(X_foreground, X_background)\n",
    "\n",
    "#returns a set of 2-dimensional projections of the foreground data stored in the list 'projected_data', for several different values of 'alpha' that are automatically chosen (by default, 4 values of alpha are chosen)\n",
    "\n",
    "print(\"Accuracy with cPCA:\")\n",
    "print(\"-------------------\")\n",
    "\n",
    "for i in range(np.asarray(projected_data).shape[0]):\n",
    "    X_train, X_test, y_train, y_test = train_test_split(np.asarray(projected_data)[i], y_foreground, test_size=0.2, random_state=42)\n",
    "    \n",
    "    # Initialize a classifier\n",
    "    clf = TabPFNClassifier()\n",
    "    clf.fit(X_train, y_train)\n",
    "\n",
    "    print(f\"choice {i+1} of alpha:\")\n",
    "    # Predict probabilities\n",
    "    prediction_probabilities = clf.predict_proba(X_test)\n",
    "    print(\"ROC AUC:\", round(roc_auc_score(y_test, prediction_probabilities[:, 1]),3))\n",
    "    \n",
    "    # Predict labels\n",
    "    predictions = clf.predict(X_test)\n",
    "    print(\"Accuracy\", round(accuracy_score(y_test, predictions),3))\n",
    "    print()"
   ]
  }
 ],
 "metadata": {
  "kernelspec": {
   "display_name": "Python 3 (ipykernel)",
   "language": "python",
   "name": "python3"
  },
  "language_info": {
   "codemirror_mode": {
    "name": "ipython",
    "version": 3
   },
   "file_extension": ".py",
   "mimetype": "text/x-python",
   "name": "python",
   "nbconvert_exporter": "python",
   "pygments_lexer": "ipython3",
   "version": "3.10.12"
  }
 },
 "nbformat": 4,
 "nbformat_minor": 5
}
