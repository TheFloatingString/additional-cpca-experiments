{
 "cells": [
  {
   "cell_type": "code",
   "execution_count": 5,
   "id": "3091fd46-e542-42d9-bc42-616edc84a685",
   "metadata": {},
   "outputs": [],
   "source": [
    "from sentence_transformers import SentenceTransformer \n",
    "from datasets import load_dataset"
   ]
  },
  {
   "cell_type": "code",
   "execution_count": 6,
   "id": "c6a34201-95a0-41c2-b8fb-fce42d33f304",
   "metadata": {},
   "outputs": [
    {
     "name": "stderr",
     "output_type": "stream",
     "text": [
      "Downloading builder script: 100%|█████████████████████████████████████████████████████████| 9.13k/9.13k [00:00<?, ?B/s]\n",
      "Downloading readme: 100%|█████████████████████████████████████████████████████████████████| 6.68k/6.68k [00:00<?, ?B/s]\n",
      "Downloading data: 100%|███████████████████████████████████████████████████████████| 6.37M/6.37M [00:04<00:00, 1.39MB/s]\n",
      "Downloading data: 100%|██████████████████████████████████████████████████████████████| 790k/790k [00:00<00:00, 840kB/s]\n",
      "Generating train split: 100%|█████████████████████████████████████████████| 8544/8544 [00:02<00:00, 3927.49 examples/s]\n",
      "Generating validation split: 100%|█████████████████████████████████████████| 1101/1101 [00:01<00:00, 754.07 examples/s]\n",
      "Generating test split: 100%|██████████████████████████████████████████████| 2210/2210 [00:01<00:00, 1470.52 examples/s]\n"
     ]
    }
   ],
   "source": [
    "sst_dataset = load_dataset('sst', 'default')"
   ]
  },
  {
   "cell_type": "code",
   "execution_count": 2,
   "id": "53e99ac7-2ae7-43eb-9622-106c77bcef20",
   "metadata": {},
   "outputs": [],
   "source": [
    "model = SentenceTransformer('sentence-transformers/all-MiniLM-L6-v2')"
   ]
  },
  {
   "cell_type": "code",
   "execution_count": 3,
   "id": "43285dd9-5cc6-459a-bfee-d67ea4009820",
   "metadata": {},
   "outputs": [],
   "source": [
    "embeddings = model.encode(['hi'])"
   ]
  },
  {
   "cell_type": "code",
   "execution_count": 4,
   "id": "2a4b7aa3-2fd7-40bb-a35b-c3fb633aa514",
   "metadata": {},
   "outputs": [
    {
     "data": {
      "text/plain": [
       "(1, 384)"
      ]
     },
     "execution_count": 4,
     "metadata": {},
     "output_type": "execute_result"
    }
   ],
   "source": [
    "embeddings.shape"
   ]
  },
  {
   "cell_type": "code",
   "execution_count": 8,
   "id": "27b9deb4-f770-477c-be44-35251fa85d4f",
   "metadata": {},
   "outputs": [
    {
     "name": "stdout",
     "output_type": "stream",
     "text": [
      "DatasetDict({\n",
      "    train: Dataset({\n",
      "        features: ['sentence', 'label', 'tokens', 'tree'],\n",
      "        num_rows: 8544\n",
      "    })\n",
      "    validation: Dataset({\n",
      "        features: ['sentence', 'label', 'tokens', 'tree'],\n",
      "        num_rows: 1101\n",
      "    })\n",
      "    test: Dataset({\n",
      "        features: ['sentence', 'label', 'tokens', 'tree'],\n",
      "        num_rows: 2210\n",
      "    })\n",
      "})\n"
     ]
    }
   ],
   "source": [
    "print(sst_dataset)"
   ]
  },
  {
   "cell_type": "code",
   "execution_count": 12,
   "id": "a863b684-a9fc-4532-9b7e-522dfe534d6f",
   "metadata": {},
   "outputs": [
    {
     "name": "stdout",
     "output_type": "stream",
     "text": [
      "Dataset({\n",
      "    features: ['sentence', 'label', 'tokens', 'tree'],\n",
      "    num_rows: 8544\n",
      "})\n"
     ]
    }
   ],
   "source": [
    "print(sst_dataset['train'])"
   ]
  },
  {
   "cell_type": "code",
   "execution_count": 14,
   "id": "3fa8992a-f6c3-4c8b-a7d4-74fa874839c7",
   "metadata": {},
   "outputs": [
    {
     "name": "stdout",
     "output_type": "stream",
     "text": [
      "0.6944400072097778\n"
     ]
    }
   ],
   "source": [
    "print(sst_dataset['train']['label'][0])"
   ]
  },
  {
   "cell_type": "code",
   "execution_count": 347,
   "id": "be8651a2-5aac-4991-bf4f-66ae194f5a6b",
   "metadata": {},
   "outputs": [],
   "source": [
    "import random\n",
    "\n",
    "X_train_target_text = []\n",
    "y_train_labels = []\n",
    "X_train_background_test = []\n",
    "\n",
    "for i in random.sample(range(0,len(sst_dataset['train']['sentence'])),1000):\n",
    "    if 0.4 < sst_dataset['train']['label'][i] < 0.6:\n",
    "        X_train_background_test.append(sst_dataset['train']['sentence'][i])\n",
    "    else:\n",
    "        X_train_target_text.append(sst_dataset['train']['sentence'][i])\n",
    "        if sst_dataset['train']['label'][i] < 0.4:\n",
    "            y_train_labels.append(0)\n",
    "        else:\n",
    "            y_train_labels.append(1)"
   ]
  },
  {
   "cell_type": "code",
   "execution_count": 348,
   "id": "03e810dd-b45c-4801-8560-578150eb909c",
   "metadata": {},
   "outputs": [],
   "source": [
    "X_target_train_emb = model.encode(X_train_target_text)\n",
    "X_background_train_emb = model.encode(X_train_background_test)"
   ]
  },
  {
   "cell_type": "code",
   "execution_count": 349,
   "id": "2d3851aa-5ecf-47c5-afeb-60f44775db21",
   "metadata": {
    "scrolled": true
   },
   "outputs": [],
   "source": [
    "import numpy as np\n",
    "for i in X_background_train_emb:\n",
    "    # print(i)\n",
    "    if np.inf in i or np.nan in i:\n",
    "        print(i)\n",
    "    # print(i)"
   ]
  },
  {
   "cell_type": "code",
   "execution_count": 271,
   "id": "5271ac98-2e8f-4203-bff2-212cd8d6fc8f",
   "metadata": {},
   "outputs": [
    {
     "data": {
      "text/plain": [
       "(815, 384)"
      ]
     },
     "execution_count": 271,
     "metadata": {},
     "output_type": "execute_result"
    }
   ],
   "source": [
    "X_target_train_emb.shape"
   ]
  },
  {
   "cell_type": "code",
   "execution_count": 272,
   "id": "ec296518-8bf8-4712-9aeb-41240db4510b",
   "metadata": {},
   "outputs": [
    {
     "name": "stdout",
     "output_type": "stream",
     "text": [
      "[392 423]\n"
     ]
    }
   ],
   "source": [
    "print(np.bincount(np.asarray(y_train_labels)))"
   ]
  },
  {
   "cell_type": "code",
   "execution_count": 273,
   "id": "7da17947-c81b-4a9c-87b9-87eec3936422",
   "metadata": {},
   "outputs": [
    {
     "data": {
      "text/plain": [
       "(185, 384)"
      ]
     },
     "execution_count": 273,
     "metadata": {},
     "output_type": "execute_result"
    }
   ],
   "source": [
    "X_background_train_emb.shape"
   ]
  },
  {
   "cell_type": "code",
   "execution_count": 274,
   "id": "4a13c8ec-fde2-4e94-9894-b56c1ca2f031",
   "metadata": {},
   "outputs": [
    {
     "data": {
      "text/plain": [
       "True"
      ]
     },
     "execution_count": 274,
     "metadata": {},
     "output_type": "execute_result"
    }
   ],
   "source": [
    "np.isfinite(X_background_train_emb).all()"
   ]
  },
  {
   "cell_type": "code",
   "execution_count": 275,
   "id": "ab6b9280-f9e1-47c2-8d8d-851a56205dac",
   "metadata": {},
   "outputs": [],
   "source": [
    "from contrastive import CPCA\n",
    "from sklearn.decomposition import PCA"
   ]
  },
  {
   "cell_type": "code",
   "execution_count": 276,
   "id": "c0744ed4-f5bc-477b-aa59-edcc715305c9",
   "metadata": {},
   "outputs": [],
   "source": [
    "X_target = np.asarray([[0,1,2],[0,1,2],[0,1,2]])\n",
    "X_back = np.asarray([[0,1,2],[0,1,2],[0,1,2]])"
   ]
  },
  {
   "cell_type": "code",
   "execution_count": 350,
   "id": "78e92e5b-d16b-4b8b-906b-e610ccc739a0",
   "metadata": {},
   "outputs": [
    {
     "name": "stdout",
     "output_type": "stream",
     "text": [
      "(4, 824, 2)\n",
      "(824, 2)\n"
     ]
    }
   ],
   "source": [
    "cpca_model = CPCA(n_components=2)\n",
    "transformed_data = cpca_model.fit_transform(X_target_train_emb[:,0:120], X_background_train_emb[:,0:120])\n",
    "transformed_data = np.asarray(transformed_data)\n",
    "print(transformed_data.shape)\n",
    "\n",
    "pca = PCA(n_components=2)\n",
    "pca_compress = pca.fit_transform(X_target_train_emb[:,0:120])\n",
    "print(pca_compress.shape)"
   ]
  },
  {
   "cell_type": "code",
   "execution_count": 351,
   "id": "199be436-8858-45f4-abdb-88265923fac2",
   "metadata": {},
   "outputs": [
    {
     "name": "stdout",
     "output_type": "stream",
     "text": [
      "No preprocessing:\n",
      "Accuracy: 0.629 +/- 0.039\n"
     ]
    }
   ],
   "source": [
    "from sklearn.neighbors import KNeighborsClassifier\n",
    "from sklearn.model_selection import cross_val_score\n",
    "from sklearn.model_selection import train_test_split\n",
    "import sklearn as sk\n",
    "\n",
    "X_data, y_data = sk.utils.shuffle(X_target_train_emb[:,0:120], y_train_labels)\n",
    "X_train, X_test, y_train, y_test = train_test_split(X_data, y_data,shuffle=True)\n",
    "clf = KNeighborsClassifier()\n",
    "scores = cross_val_score(clf, X_data, y_data, cv=5)\n",
    "print(\"No preprocessing:\")\n",
    "print(f\"Accuracy: {round(scores.mean(),3)} +/- {round(scores.std(),3)}\")"
   ]
  },
  {
   "cell_type": "code",
   "execution_count": 352,
   "id": "c78d44f8-3426-4633-bff4-41ae8ea700b6",
   "metadata": {},
   "outputs": [
    {
     "name": "stdout",
     "output_type": "stream",
     "text": [
      "PCA:\n",
      "Accuracy: 0.528 +/- 0.029\n"
     ]
    }
   ],
   "source": [
    "from sklearn.neighbors import KNeighborsClassifier\n",
    "from sklearn.model_selection import cross_val_score\n",
    "from sklearn.model_selection import train_test_split\n",
    "import sklearn as sk\n",
    "\n",
    "X_data_pca, y_data_pca = sk.utils.shuffle(pca_compress, y_train_labels)\n",
    "X_train, X_test, y_train, y_test = train_test_split(X_data_pca, y_data_pca,shuffle=True)\n",
    "clf = KNeighborsClassifier()\n",
    "scores = cross_val_score(clf, X_data_pca, y_data_pca, cv=5)\n",
    "print(\"PCA:\")\n",
    "print(f\"Accuracy: {round(scores.mean(),3)} +/- {round(scores.std(),3)}\")"
   ]
  },
  {
   "cell_type": "code",
   "execution_count": 353,
   "id": "4cfa12cf-a975-49cf-bb18-5123a9ce10e4",
   "metadata": {},
   "outputs": [
    {
     "name": "stdout",
     "output_type": "stream",
     "text": [
      "cPCA\n",
      "Accuracy: 0.538 +/- 0.032\n",
      "Accuracy: 0.563 +/- 0.023\n",
      "Accuracy: 0.551 +/- 0.033\n",
      "Accuracy: 0.502 +/- 0.023\n"
     ]
    }
   ],
   "source": [
    "from sklearn.neighbors import KNeighborsClassifier\n",
    "from sklearn.model_selection import train_test_split\n",
    "import sklearn as sk\n",
    "\n",
    "print(\"cPCA\")\n",
    "for i in range(4):\n",
    "    X_data, y_data = sk.utils.shuffle(transformed_data[i], y_train_labels)\n",
    "    X_train, X_test, y_train, y_test = train_test_split(X_data, y_data,shuffle=True)\n",
    "    clf = KNeighborsClassifier()\n",
    "    scores = cross_val_score(clf, X_data, y_data, cv=5)\n",
    "    print(f\"Accuracy: {round(scores.mean(),3)} +/- {round(scores.std(),3)}\")\n",
    "\n",
    "\n",
    "# TODO: ref. last week, use average of X_data as background noise; use k-NN classifier to get most representative images as background\n",
    "# TODO: CIFAR-100 (good benchmark), images"
   ]
  }
 ],
 "metadata": {
  "kernelspec": {
   "display_name": "Python 3 (ipykernel)",
   "language": "python",
   "name": "python3"
  },
  "language_info": {
   "codemirror_mode": {
    "name": "ipython",
    "version": 3
   },
   "file_extension": ".py",
   "mimetype": "text/x-python",
   "name": "python",
   "nbconvert_exporter": "python",
   "pygments_lexer": "ipython3",
   "version": "3.11.4"
  }
 },
 "nbformat": 4,
 "nbformat_minor": 5
}
